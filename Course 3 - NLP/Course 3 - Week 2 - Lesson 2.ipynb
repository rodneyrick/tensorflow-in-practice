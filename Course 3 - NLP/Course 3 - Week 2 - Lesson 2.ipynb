{
 "cells": [
  {
   "cell_type": "code",
   "execution_count": 1,
   "metadata": {
    "ExecuteTime": {
     "end_time": "2020-11-02T01:53:58.320314Z",
     "start_time": "2020-11-02T01:53:58.305279Z"
    },
    "colab": {},
    "colab_type": "code",
    "id": "zX4Kg8DUTKWO"
   },
   "outputs": [],
   "source": [
    "#@title Licensed under the Apache License, Version 2.0 (the \"License\");\n",
    "# you may not use this file except in compliance with the License.\n",
    "# You may obtain a copy of the License at\n",
    "#\n",
    "# https://www.apache.org/licenses/LICENSE-2.0\n",
    "#\n",
    "# Unless required by applicable law or agreed to in writing, software\n",
    "# distributed under the License is distributed on an \"AS IS\" BASIS,\n",
    "# WITHOUT WARRANTIES OR CONDITIONS OF ANY KIND, either express or implied.\n",
    "# See the License for the specific language governing permissions and\n",
    "# limitations under the License."
   ]
  },
  {
   "cell_type": "markdown",
   "metadata": {
    "colab_type": "text",
    "id": "view-in-github"
   },
   "source": [
    "<a href=\"https://colab.research.google.com/github/lmoroney/dlaicourse/blob/master/TensorFlow%20In%20Practice/Course%203%20-%20NLP/Course%203%20-%20Week%202%20-%20Lesson%202.ipynb\" target=\"_parent\"><img src=\"https://colab.research.google.com/assets/colab-badge.svg\" alt=\"Open In Colab\"/></a>"
   ]
  },
  {
   "cell_type": "code",
   "execution_count": 2,
   "metadata": {
    "ExecuteTime": {
     "end_time": "2020-11-02T01:53:58.336305Z",
     "start_time": "2020-11-02T01:53:58.321279Z"
    },
    "colab": {},
    "colab_type": "code",
    "id": "4gs9htvM7n_x"
   },
   "outputs": [],
   "source": [
    "# Run this to ensure TensorFlow 2.x is used\n",
    "try:\n",
    "  # %tensorflow_version only exists in Colab.\n",
    "  %tensorflow_version 2.x\n",
    "except Exception:\n",
    "  pass"
   ]
  },
  {
   "cell_type": "code",
   "execution_count": 3,
   "metadata": {
    "ExecuteTime": {
     "end_time": "2020-11-02T01:54:00.724192Z",
     "start_time": "2020-11-02T01:53:58.337279Z"
    },
    "colab": {},
    "colab_type": "code",
    "id": "XYYDvoskkE61"
   },
   "outputs": [],
   "source": [
    "import json\n",
    "import tensorflow as tf\n",
    "\n",
    "from tensorflow.keras.preprocessing.text import Tokenizer\n",
    "from tensorflow.keras.preprocessing.sequence import pad_sequences"
   ]
  },
  {
   "cell_type": "code",
   "execution_count": 4,
   "metadata": {
    "ExecuteTime": {
     "end_time": "2020-11-02T01:54:00.739060Z",
     "start_time": "2020-11-02T01:54:00.725099Z"
    },
    "colab": {},
    "colab_type": "code",
    "id": "0eJSTTYnkJQd"
   },
   "outputs": [],
   "source": [
    "vocab_size = 10000\n",
    "embedding_dim = 16\n",
    "max_length = 100\n",
    "trunc_type='post'\n",
    "padding_type='post'\n",
    "oov_tok = \"<OOV>\"\n",
    "training_size = 20000\n"
   ]
  },
  {
   "cell_type": "code",
   "execution_count": 5,
   "metadata": {
    "ExecuteTime": {
     "end_time": "2020-11-02T01:54:01.459672Z",
     "start_time": "2020-11-02T01:54:00.739994Z"
    },
    "colab": {},
    "colab_type": "code",
    "id": "BQVuQrZNkPn9"
   },
   "outputs": [
    {
     "name": "stderr",
     "output_type": "stream",
     "text": [
      "--2020-11-01 22:54:00--  https://storage.googleapis.com/laurencemoroney-blog.appspot.com/sarcasm.json\n",
      "Resolving storage.googleapis.com (storage.googleapis.com)... 2800:3f0:4001:801::2010, 2800:3f0:4001:803::2010, 2800:3f0:4001:814::2010, ...\n",
      "Connecting to storage.googleapis.com (storage.googleapis.com)|2800:3f0:4001:801::2010|:443... connected.\n",
      "HTTP request sent, awaiting response... 200 OK\n",
      "Length: 5643545 (5.4M) [application/json]\n",
      "Saving to: '/tmp/sarcasm.json'\n",
      "\n",
      "     0K .......... .......... .......... .......... ..........  0%  590K 9s\n",
      "    50K .......... .......... .......... .......... ..........  1% 5.68M 5s\n",
      "   100K .......... .......... .......... .......... ..........  2% 5.15M 4s\n",
      "   150K .......... .......... .......... .......... ..........  3% 4.91M 3s\n",
      "   200K .......... .......... .......... .......... ..........  4% 5.01M 3s\n",
      "   250K .......... .......... .......... .......... ..........  5% 5.36M 2s\n",
      "   300K .......... .......... .......... .......... ..........  6% 5.40M 2s\n",
      "   350K .......... .......... .......... .......... ..........  7% 5.14M 2s\n",
      "   400K .......... .......... .......... .......... ..........  8% 5.40M 2s\n",
      "   450K .......... .......... .......... .......... ..........  9% 3.75M 2s\n",
      "   500K .......... .......... .......... .......... ..........  9% 5.24M 2s\n",
      "   550K .......... .......... .......... .......... .......... 10% 5.43M 2s\n",
      "   600K .......... .......... .......... .......... .......... 11% 5.09M 1s\n",
      "   650K .......... .......... .......... .......... .......... 12% 4.15M 1s\n",
      "   700K .......... .......... .......... .......... .......... 13% 4.04M 1s\n",
      "   750K .......... .......... .......... .......... .......... 14% 3.40M 1s\n",
      "   800K .......... .......... .......... .......... .......... 15% 4.15M 1s\n",
      "   850K .......... .......... .......... .......... .......... 16% 4.41M 1s\n",
      "   900K .......... .......... .......... .......... .......... 17% 4.00M 1s\n",
      "   950K .......... .......... .......... .......... .......... 18% 4.04M 1s\n",
      "  1000K .......... .......... .......... .......... .......... 19% 5.83M 1s\n",
      "  1050K .......... .......... .......... .......... .......... 19% 37.8M 1s\n",
      "  1100K .......... .......... .......... .......... .......... 20% 37.7M 1s\n",
      "  1150K .......... .......... .......... .......... .......... 21% 29.4M 1s\n",
      "  1200K .......... .......... .......... .......... .......... 22% 27.6M 1s\n",
      "  1250K .......... .......... .......... .......... .......... 23% 42.0M 1s\n",
      "  1300K .......... .......... .......... .......... .......... 24% 48.0M 1s\n",
      "  1350K .......... .......... .......... .......... .......... 25% 44.3M 1s\n",
      "  1400K .......... .......... .......... .......... .......... 26% 27.7M 1s\n",
      "  1450K .......... .......... .......... .......... .......... 27% 29.5M 1s\n",
      "  1500K .......... .......... .......... .......... .......... 28% 20.0M 1s\n",
      "  1550K .......... .......... .......... .......... .......... 29% 47.5M 1s\n",
      "  1600K .......... .......... .......... .......... .......... 29% 37.5M 1s\n",
      "  1650K .......... .......... .......... .......... .......... 30% 40.5M 1s\n",
      "  1700K .......... .......... .......... .......... .......... 31% 40.5M 1s\n",
      "  1750K .......... .......... .......... .......... .......... 32% 35.0M 1s\n",
      "  1800K .......... .......... .......... .......... .......... 33% 25.8M 1s\n",
      "  1850K .......... .......... .......... .......... .......... 34% 33.7M 1s\n",
      "  1900K .......... .......... .......... .......... .......... 35% 36.8M 1s\n",
      "  1950K .......... .......... .......... .......... .......... 36% 43.8M 1s\n",
      "  2000K .......... .......... .......... .......... .......... 37% 37.6M 1s\n",
      "  2050K .......... .......... .......... .......... .......... 38% 43.0M 1s\n",
      "  2100K .......... .......... .......... .......... .......... 39% 50.0M 1s\n",
      "  2150K .......... .......... .......... .......... .......... 39% 47.2M 0s\n",
      "  2200K .......... .......... .......... .......... .......... 40% 42.4M 0s\n",
      "  2250K .......... .......... .......... .......... .......... 41% 31.9M 0s\n",
      "  2300K .......... .......... .......... .......... .......... 42% 17.9M 0s\n",
      "  2350K .......... .......... .......... .......... .......... 43% 39.1M 0s\n",
      "  2400K .......... .......... .......... .......... .......... 44% 27.5M 0s\n",
      "  2450K .......... .......... .......... .......... .......... 45% 49.5M 0s\n",
      "  2500K .......... .......... .......... .......... .......... 46% 43.2M 0s\n",
      "  2550K .......... .......... .......... .......... .......... 47% 45.5M 0s\n",
      "  2600K .......... .......... .......... .......... .......... 48% 43.1M 0s\n",
      "  2650K .......... .......... .......... .......... .......... 48% 48.0M 0s\n",
      "  2700K .......... .......... .......... .......... .......... 49% 50.2M 0s\n",
      "  2750K .......... .......... .......... .......... .......... 50% 38.9M 0s\n",
      "  2800K .......... .......... .......... .......... .......... 51% 41.9M 0s\n",
      "  2850K .......... .......... .......... .......... .......... 52% 50.8M 0s\n",
      "  2900K .......... .......... .......... .......... .......... 53% 50.8M 0s\n",
      "  2950K .......... .......... .......... .......... .......... 54% 49.7M 0s\n",
      "  3000K .......... .......... .......... .......... .......... 55% 44.3M 0s\n",
      "  3050K .......... .......... .......... .......... .......... 56% 48.8M 0s\n",
      "  3100K .......... .......... .......... .......... .......... 57% 50.3M 0s\n",
      "  3150K .......... .......... .......... .......... .......... 58% 49.6M 0s\n",
      "  3200K .......... .......... .......... .......... .......... 58% 37.8M 0s\n",
      "  3250K .......... .......... .......... .......... .......... 59% 43.4M 0s\n",
      "  3300K .......... .......... .......... .......... .......... 60% 43.6M 0s\n",
      "  3350K .......... .......... .......... .......... .......... 61% 47.5M 0s\n",
      "  3400K .......... .......... .......... .......... .......... 62% 42.3M 0s\n",
      "  3450K .......... .......... .......... .......... .......... 63% 47.0M 0s\n",
      "  3500K .......... .......... .......... .......... .......... 64% 47.9M 0s\n",
      "  3550K .......... .......... .......... .......... .......... 65% 47.2M 0s\n",
      "  3600K .......... .......... .......... .......... .......... 66% 39.4M 0s\n",
      "  3650K .......... .......... .......... .......... .......... 67% 41.0M 0s\n",
      "  3700K .......... .......... .......... .......... .......... 68% 43.9M 0s\n",
      "  3750K .......... .......... .......... .......... .......... 68% 45.4M 0s\n",
      "  3800K .......... .......... .......... .......... .......... 69% 41.5M 0s\n",
      "  3850K .......... .......... .......... .......... .......... 70% 48.0M 0s\n",
      "  3900K .......... .......... .......... .......... .......... 71% 48.3M 0s\n",
      "  3950K .......... .......... .......... .......... .......... 72% 42.1M 0s\n",
      "  4000K .......... .......... .......... .......... .......... 73% 40.8M 0s\n",
      "  4050K .......... .......... .......... .......... .......... 74% 46.2M 0s\n",
      "  4100K .......... .......... .......... .......... .......... 75% 46.7M 0s\n",
      "  4150K .......... .......... .......... .......... .......... 76% 47.6M 0s\n",
      "  4200K .......... .......... .......... .......... .......... 77% 41.5M 0s\n",
      "  4250K .......... .......... .......... .......... .......... 78% 44.6M 0s\n",
      "  4300K .......... .......... .......... .......... .......... 78% 46.8M 0s\n",
      "  4350K .......... .......... .......... .......... .......... 79% 46.0M 0s\n",
      "  4400K .......... .......... .......... .......... .......... 80% 41.0M 0s\n",
      "  4450K .......... .......... .......... .......... .......... 81% 47.0M 0s\n",
      "  4500K .......... .......... .......... .......... .......... 82% 47.5M 0s\n",
      "  4550K .......... .......... .......... .......... .......... 83% 47.6M 0s\n",
      "  4600K .......... .......... .......... .......... .......... 84% 41.3M 0s\n",
      "  4650K .......... .......... .......... .......... .......... 85% 40.7M 0s\n",
      "  4700K .......... .......... .......... .......... .......... 86% 46.2M 0s\n",
      "  4750K .......... .......... .......... .......... .......... 87% 50.5M 0s\n",
      "  4800K .......... .......... .......... .......... .......... 88% 39.9M 0s\n",
      "  4850K .......... .......... .......... .......... .......... 88% 48.5M 0s\n",
      "  4900K .......... .......... .......... .......... .......... 89% 47.6M 0s\n",
      "  4950K .......... .......... .......... .......... .......... 90% 38.6M 0s\n",
      "  5000K .......... .......... .......... .......... .......... 91% 41.0M 0s\n",
      "  5050K .......... .......... .......... .......... .......... 92% 47.0M 0s\n",
      "  5100K .......... .......... .......... .......... .......... 93% 45.0M 0s\n",
      "  5150K .......... .......... .......... .......... .......... 94% 38.7M 0s\n",
      "  5200K .......... .......... .......... .......... .......... 95% 39.5M 0s\n",
      "  5250K .......... .......... .......... .......... .......... 96% 46.8M 0s\n",
      "  5300K .......... .......... .......... .......... .......... 97% 49.4M 0s\n",
      "  5350K .......... .......... .......... .......... .......... 97% 45.7M 0s\n",
      "  5400K .......... .......... .......... .......... .......... 98% 36.0M 0s\n",
      "  5450K .......... .......... .......... .......... .......... 99% 49.9M 0s\n",
      "  5500K .......... .                                          100% 62.7M=0.4s\n",
      "\n",
      "2020-11-01 22:54:01 (13.4 MB/s) - '/tmp/sarcasm.json' saved [5643545/5643545]\n",
      "\n"
     ]
    }
   ],
   "source": [
    "!wget --no-check-certificate \\\n",
    "    https://storage.googleapis.com/laurencemoroney-blog.appspot.com/sarcasm.json \\\n",
    "    -O /tmp/sarcasm.json"
   ]
  },
  {
   "cell_type": "code",
   "execution_count": 6,
   "metadata": {
    "ExecuteTime": {
     "end_time": "2020-11-02T01:54:01.521706Z",
     "start_time": "2020-11-02T01:54:01.460673Z"
    },
    "colab": {},
    "colab_type": "code",
    "id": "oaLaaqhNkUPd"
   },
   "outputs": [],
   "source": [
    "with open(\"/tmp/sarcasm.json\", 'r') as f:\n",
    "    datastore = json.load(f)\n",
    "\n",
    "sentences = []\n",
    "labels = []\n",
    "\n",
    "for item in datastore:\n",
    "    sentences.append(item['headline'])\n",
    "    labels.append(item['is_sarcastic'])"
   ]
  },
  {
   "cell_type": "code",
   "execution_count": 7,
   "metadata": {
    "ExecuteTime": {
     "end_time": "2020-11-02T01:54:01.537707Z",
     "start_time": "2020-11-02T01:54:01.523674Z"
    },
    "colab": {},
    "colab_type": "code",
    "id": "S1sD-7v0kYWk"
   },
   "outputs": [],
   "source": [
    "training_sentences = sentences[0:training_size]\n",
    "testing_sentences = sentences[training_size:]\n",
    "training_labels = labels[0:training_size]\n",
    "testing_labels = labels[training_size:]"
   ]
  },
  {
   "cell_type": "code",
   "execution_count": 8,
   "metadata": {
    "ExecuteTime": {
     "end_time": "2020-11-02T01:54:02.122895Z",
     "start_time": "2020-11-02T01:54:01.539699Z"
    },
    "colab": {},
    "colab_type": "code",
    "id": "3u8UB0MCkZ5N"
   },
   "outputs": [],
   "source": [
    "tokenizer = Tokenizer(num_words=vocab_size, oov_token=oov_tok)\n",
    "tokenizer.fit_on_texts(training_sentences)\n",
    "\n",
    "word_index = tokenizer.word_index\n",
    "\n",
    "training_sequences = tokenizer.texts_to_sequences(training_sentences)\n",
    "training_padded = pad_sequences(training_sequences, maxlen=max_length, padding=padding_type, truncating=trunc_type)\n",
    "\n",
    "testing_sequences = tokenizer.texts_to_sequences(testing_sentences)\n",
    "testing_padded = pad_sequences(testing_sequences, maxlen=max_length, padding=padding_type, truncating=trunc_type)"
   ]
  },
  {
   "cell_type": "code",
   "execution_count": 9,
   "metadata": {
    "ExecuteTime": {
     "end_time": "2020-11-02T01:54:02.137835Z",
     "start_time": "2020-11-02T01:54:02.124829Z"
    },
    "colab": {},
    "colab_type": "code",
    "id": "GrAlWBKf99Ya"
   },
   "outputs": [],
   "source": [
    "# Need this block to get it to work with TensorFlow 2.x\n",
    "import numpy as np\n",
    "training_padded = np.array(training_padded)\n",
    "training_labels = np.array(training_labels)\n",
    "testing_padded = np.array(testing_padded)\n",
    "testing_labels = np.array(testing_labels)"
   ]
  },
  {
   "cell_type": "code",
   "execution_count": 10,
   "metadata": {
    "ExecuteTime": {
     "end_time": "2020-11-02T01:54:04.448410Z",
     "start_time": "2020-11-02T01:54:02.139811Z"
    },
    "colab": {},
    "colab_type": "code",
    "id": "FufaT4vlkiDE"
   },
   "outputs": [],
   "source": [
    "model = tf.keras.Sequential([\n",
    "    tf.keras.layers.Embedding(vocab_size, embedding_dim, input_length=max_length),\n",
    "    tf.keras.layers.GlobalAveragePooling1D(),\n",
    "    tf.keras.layers.Dense(24, activation='relu'),\n",
    "    tf.keras.layers.Dense(1, activation='sigmoid')\n",
    "])\n",
    "model.compile(loss='binary_crossentropy',optimizer='adam',metrics=['accuracy'])"
   ]
  },
  {
   "cell_type": "code",
   "execution_count": 11,
   "metadata": {
    "ExecuteTime": {
     "end_time": "2020-11-02T01:54:04.540420Z",
     "start_time": "2020-11-02T01:54:04.453424Z"
    },
    "colab": {},
    "colab_type": "code",
    "id": "XfDt1hmYkiys"
   },
   "outputs": [
    {
     "name": "stdout",
     "output_type": "stream",
     "text": [
      "Model: \"sequential\"\n",
      "_________________________________________________________________\n",
      "Layer (type)                 Output Shape              Param #   \n",
      "=================================================================\n",
      "embedding (Embedding)        (None, 100, 16)           160000    \n",
      "_________________________________________________________________\n",
      "global_average_pooling1d (Gl (None, 16)                0         \n",
      "_________________________________________________________________\n",
      "dense (Dense)                (None, 24)                408       \n",
      "_________________________________________________________________\n",
      "dense_1 (Dense)              (None, 1)                 25        \n",
      "=================================================================\n",
      "Total params: 160,433\n",
      "Trainable params: 160,433\n",
      "Non-trainable params: 0\n",
      "_________________________________________________________________\n"
     ]
    }
   ],
   "source": [
    "model.summary()\n"
   ]
  },
  {
   "cell_type": "code",
   "execution_count": 12,
   "metadata": {
    "ExecuteTime": {
     "end_time": "2020-11-02T01:55:03.811313Z",
     "start_time": "2020-11-02T01:54:04.542419Z"
    },
    "colab": {},
    "colab_type": "code",
    "id": "2DTKQFf1kkyc"
   },
   "outputs": [
    {
     "name": "stdout",
     "output_type": "stream",
     "text": [
      "Epoch 1/30\n",
      "625/625 - 2s - loss: 0.6746 - accuracy: 0.5685 - val_loss: 0.6186 - val_accuracy: 0.6499\n",
      "Epoch 2/30\n",
      "625/625 - 2s - loss: 0.4416 - accuracy: 0.8231 - val_loss: 0.3813 - val_accuracy: 0.8411\n",
      "Epoch 3/30\n",
      "625/625 - 2s - loss: 0.3090 - accuracy: 0.8749 - val_loss: 0.3537 - val_accuracy: 0.8490\n",
      "Epoch 4/30\n",
      "625/625 - 2s - loss: 0.2590 - accuracy: 0.8973 - val_loss: 0.3418 - val_accuracy: 0.8572\n",
      "Epoch 5/30\n",
      "625/625 - 2s - loss: 0.2227 - accuracy: 0.9129 - val_loss: 0.3411 - val_accuracy: 0.8574\n",
      "Epoch 6/30\n",
      "625/625 - 2s - loss: 0.1984 - accuracy: 0.9246 - val_loss: 0.3535 - val_accuracy: 0.8502\n",
      "Epoch 7/30\n",
      "625/625 - 2s - loss: 0.1759 - accuracy: 0.9340 - val_loss: 0.3621 - val_accuracy: 0.8526\n",
      "Epoch 8/30\n",
      "625/625 - 2s - loss: 0.1567 - accuracy: 0.9423 - val_loss: 0.3719 - val_accuracy: 0.8556\n",
      "Epoch 9/30\n",
      "625/625 - 2s - loss: 0.1414 - accuracy: 0.9492 - val_loss: 0.3888 - val_accuracy: 0.8515\n",
      "Epoch 10/30\n",
      "625/625 - 2s - loss: 0.1294 - accuracy: 0.9534 - val_loss: 0.4089 - val_accuracy: 0.8498\n",
      "Epoch 11/30\n",
      "625/625 - 2s - loss: 0.1180 - accuracy: 0.9585 - val_loss: 0.4371 - val_accuracy: 0.8432\n",
      "Epoch 12/30\n",
      "625/625 - 2s - loss: 0.1061 - accuracy: 0.9632 - val_loss: 0.4498 - val_accuracy: 0.8456\n",
      "Epoch 13/30\n",
      "625/625 - 2s - loss: 0.0982 - accuracy: 0.9667 - val_loss: 0.4737 - val_accuracy: 0.8430\n",
      "Epoch 14/30\n",
      "625/625 - 2s - loss: 0.0896 - accuracy: 0.9704 - val_loss: 0.4992 - val_accuracy: 0.8404\n",
      "Epoch 15/30\n",
      "625/625 - 2s - loss: 0.0822 - accuracy: 0.9729 - val_loss: 0.5308 - val_accuracy: 0.8371\n",
      "Epoch 16/30\n",
      "625/625 - 2s - loss: 0.0778 - accuracy: 0.9740 - val_loss: 0.5502 - val_accuracy: 0.8363\n",
      "Epoch 17/30\n",
      "625/625 - 2s - loss: 0.0692 - accuracy: 0.9785 - val_loss: 0.5807 - val_accuracy: 0.8368\n",
      "Epoch 18/30\n",
      "625/625 - 2s - loss: 0.0644 - accuracy: 0.9796 - val_loss: 0.6227 - val_accuracy: 0.8310\n",
      "Epoch 19/30\n",
      "625/625 - 2s - loss: 0.0598 - accuracy: 0.9822 - val_loss: 0.6449 - val_accuracy: 0.8268\n",
      "Epoch 20/30\n",
      "625/625 - 2s - loss: 0.0546 - accuracy: 0.9839 - val_loss: 0.6688 - val_accuracy: 0.8301\n",
      "Epoch 21/30\n",
      "625/625 - 2s - loss: 0.0503 - accuracy: 0.9852 - val_loss: 0.7074 - val_accuracy: 0.8274\n",
      "Epoch 22/30\n",
      "625/625 - 2s - loss: 0.0479 - accuracy: 0.9855 - val_loss: 0.7388 - val_accuracy: 0.8277\n",
      "Epoch 23/30\n",
      "625/625 - 2s - loss: 0.0427 - accuracy: 0.9870 - val_loss: 0.7682 - val_accuracy: 0.8243\n",
      "Epoch 24/30\n",
      "625/625 - 2s - loss: 0.0402 - accuracy: 0.9877 - val_loss: 0.8038 - val_accuracy: 0.8229\n",
      "Epoch 25/30\n",
      "625/625 - 2s - loss: 0.0376 - accuracy: 0.9890 - val_loss: 0.8400 - val_accuracy: 0.8196\n",
      "Epoch 26/30\n",
      "625/625 - 2s - loss: 0.0371 - accuracy: 0.9888 - val_loss: 0.8680 - val_accuracy: 0.8186\n",
      "Epoch 27/30\n",
      "625/625 - 2s - loss: 0.0317 - accuracy: 0.9909 - val_loss: 0.8999 - val_accuracy: 0.8173\n",
      "Epoch 28/30\n",
      "625/625 - 2s - loss: 0.0307 - accuracy: 0.9908 - val_loss: 0.9332 - val_accuracy: 0.8173\n",
      "Epoch 29/30\n",
      "625/625 - 2s - loss: 0.0267 - accuracy: 0.9923 - val_loss: 0.9779 - val_accuracy: 0.8126\n",
      "Epoch 30/30\n",
      "625/625 - 2s - loss: 0.0263 - accuracy: 0.9927 - val_loss: 1.0056 - val_accuracy: 0.8131\n"
     ]
    }
   ],
   "source": [
    "num_epochs = 30\n",
    "history = model.fit(training_padded, training_labels, \n",
    "                    epochs=num_epochs, \n",
    "                    validation_data=(testing_padded, testing_labels), \n",
    "                    verbose=2)"
   ]
  },
  {
   "cell_type": "code",
   "execution_count": 13,
   "metadata": {
    "ExecuteTime": {
     "end_time": "2020-11-02T01:55:04.300858Z",
     "start_time": "2020-11-02T01:55:03.817243Z"
    },
    "colab": {},
    "colab_type": "code",
    "id": "2HYfBKXjkmU8"
   },
   "outputs": [
    {
     "data": {
      "image/png": "[encoded data removed]",
      "text/plain": [
       "<Figure size 432x288 with 1 Axes>"
      ]
     },
     "metadata": {
      "needs_background": "light"
     },
     "output_type": "display_data"
    },
    {
     "data": {
      "image/png": "[encoded data removed]",
      "text/plain": [
       "<Figure size 432x288 with 1 Axes>"
      ]
     },
     "metadata": {
      "needs_background": "light"
     },
     "output_type": "display_data"
    }
   ],
   "source": [
    "import matplotlib.pyplot as plt\n",
    "\n",
    "\n",
    "def plot_graphs(history, string):\n",
    "  plt.plot(history.history[string])\n",
    "  plt.plot(history.history['val_'+string])\n",
    "  plt.xlabel(\"Epochs\")\n",
    "  plt.ylabel(string)\n",
    "  plt.legend([string, 'val_'+string])\n",
    "  plt.show()\n",
    "  \n",
    "plot_graphs(history, \"accuracy\")\n",
    "plot_graphs(history, \"loss\")"
   ]
  },
  {
   "cell_type": "code",
   "execution_count": 14,
   "metadata": {
    "ExecuteTime": {
     "end_time": "2020-11-02T01:55:04.332853Z",
     "start_time": "2020-11-02T01:55:04.304856Z"
    },
    "colab": {},
    "colab_type": "code",
    "id": "7SBdAZAenvzL"
   },
   "outputs": [
    {
     "name": "stdout",
     "output_type": "stream",
     "text": [
      "former <OOV> store clerk sues over secret 'black <OOV> for minority shoppers ? ? ? ? ? ? ? ? ? ? ? ? ? ? ? ? ? ? ? ? ? ? ? ? ? ? ? ? ? ? ? ? ? ? ? ? ? ? ? ? ? ? ? ? ? ? ? ? ? ? ? ? ? ? ? ? ? ? ? ? ? ? ? ? ? ? ? ? ? ? ? ? ? ? ? ? ? ? ? ? ? ? ? ? ? ? ? ?\n",
      "mom starting to fear son's web series closest thing she will have to grandchild\n",
      "1\n"
     ]
    }
   ],
   "source": [
    "reverse_word_index = dict([(value, key) for (key, value) in word_index.items()])\n",
    "\n",
    "def decode_sentence(text):\n",
    "    return ' '.join([reverse_word_index.get(i, '?') for i in text])\n",
    "\n",
    "print(decode_sentence(training_padded[0]))\n",
    "print(training_sentences[2])\n",
    "print(labels[2])"
   ]
  },
  {
   "cell_type": "code",
   "execution_count": 15,
   "metadata": {
    "ExecuteTime": {
     "end_time": "2020-11-02T01:55:04.348852Z",
     "start_time": "2020-11-02T01:55:04.333852Z"
    },
    "colab": {},
    "colab_type": "code",
    "id": "c9MqihtEkzQ9"
   },
   "outputs": [
    {
     "name": "stdout",
     "output_type": "stream",
     "text": [
      "(10000, 16)\n"
     ]
    }
   ],
   "source": [
    "e = model.layers[0]\n",
    "weights = e.get_weights()[0]\n",
    "print(weights.shape) # shape: (vocab_size, embedding_dim)\n"
   ]
  },
  {
   "cell_type": "code",
   "execution_count": 16,
   "metadata": {
    "ExecuteTime": {
     "end_time": "2020-11-02T01:55:04.572885Z",
     "start_time": "2020-11-02T01:55:04.350851Z"
    },
    "colab": {},
    "colab_type": "code",
    "id": "LoBXVffknldU"
   },
   "outputs": [],
   "source": [
    "import io\n",
    "\n",
    "out_v = io.open('vecs.tsv', 'w', encoding='utf-8')\n",
    "out_m = io.open('meta.tsv', 'w', encoding='utf-8')\n",
    "for word_num in range(1, vocab_size):\n",
    "  word = reverse_word_index[word_num]\n",
    "  embeddings = weights[word_num]\n",
    "  out_m.write(word + \"\\n\")\n",
    "  out_v.write('\\t'.join([str(x) for x in embeddings]) + \"\\n\")\n",
    "out_v.close()\n",
    "out_m.close()"
   ]
  },
  {
   "cell_type": "code",
   "execution_count": 17,
   "metadata": {
    "ExecuteTime": {
     "end_time": "2020-11-02T01:55:04.588888Z",
     "start_time": "2020-11-02T01:55:04.573882Z"
    },
    "colab": {},
    "colab_type": "code",
    "id": "U4eZ5HtVnnEE"
   },
   "outputs": [],
   "source": [
    "try:\n",
    "  from google.colab import files\n",
    "except ImportError:\n",
    "  pass\n",
    "else:\n",
    "  files.download('vecs.tsv')\n",
    "  files.download('meta.tsv')"
   ]
  },
  {
   "cell_type": "code",
   "execution_count": 18,
   "metadata": {
    "ExecuteTime": {
     "end_time": "2020-11-02T01:55:04.728888Z",
     "start_time": "2020-11-02T01:55:04.592888Z"
    },
    "colab": {},
    "colab_type": "code",
    "id": "cG8-ArY-qDcz"
   },
   "outputs": [
    {
     "name": "stdout",
     "output_type": "stream",
     "text": [
      "[[9.7487646e-01]\n",
      " [8.9851987e-05]]\n"
     ]
    }
   ],
   "source": [
    "sentence = [\"granny starting to fear spiders in the garden might be real\", \n",
    "            \"game of thrones season finale showing this sunday night\"]\n",
    "sequences = tokenizer.texts_to_sequences(sentence)\n",
    "padded = pad_sequences(sequences, maxlen=max_length, padding=padding_type, truncating=trunc_type)\n",
    "print(model.predict(padded))"
   ]
  }
 ],
 "metadata": {
  "accelerator": "GPU",
  "colab": {
   "collapsed_sections": [],
   "include_colab_link": true,
   "name": "Course 3 - Week 2 - Lesson 2.ipynb",
   "provenance": [],
   "toc_visible": true
  },
  "kernelspec": {
   "display_name": "Python 3",
   "language": "python",
   "name": "python3"
  },
  "language_info": {
   "codemirror_mode": {
    "name": "ipython",
    "version": 3
   },
   "file_extension": ".py",
   "mimetype": "text/x-python",
   "name": "python",
   "nbconvert_exporter": "python",
   "pygments_lexer": "ipython3",
   "version": "3.8.6"
  },
  "toc": {
   "base_numbering": 1,
   "nav_menu": {},
   "number_sections": true,
   "sideBar": true,
   "skip_h1_title": false,
   "title_cell": "Table of Contents",
   "title_sidebar": "Contents",
   "toc_cell": false,
   "toc_position": {},
   "toc_section_display": true,
   "toc_window_display": false
  }
 },
 "nbformat": 4,
 "nbformat_minor": 1
}
