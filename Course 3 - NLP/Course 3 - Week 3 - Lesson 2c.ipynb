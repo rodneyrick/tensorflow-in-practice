{
 "cells": [
  {
   "cell_type": "code",
   "execution_count": 1,
   "metadata": {
    "ExecuteTime": {
     "end_time": "2020-11-02T02:01:33.358427Z",
     "start_time": "2020-11-02T02:01:33.345427Z"
    },
    "colab": {},
    "colab_type": "code",
    "id": "zX4Kg8DUTKWO"
   },
   "outputs": [],
   "source": [
    "#@title Licensed under the Apache License, Version 2.0 (the \"License\");\n",
    "# you may not use this file except in compliance with the License.\n",
    "# You may obtain a copy of the License at\n",
    "#\n",
    "# https://www.apache.org/licenses/LICENSE-2.0\n",
    "#\n",
    "# Unless required by applicable law or agreed to in writing, software\n",
    "# distributed under the License is distributed on an \"AS IS\" BASIS,\n",
    "# WITHOUT WARRANTIES OR CONDITIONS OF ANY KIND, either express or implied.\n",
    "# See the License for the specific language governing permissions and\n",
    "# limitations under the License."
   ]
  },
  {
   "cell_type": "markdown",
   "metadata": {},
   "source": [
    "<a href=\"https://colab.research.google.com/github/lmoroney/dlaicourse/blob/master/TensorFlow%20In%20Practice/Course%203%20-%20NLP/Course%203%20-%20Week%203%20-%20Lesson%202c.ipynb\" target=\"_parent\"><img src=\"https://colab.research.google.com/assets/colab-badge.svg\" alt=\"Open In Colab\"/></a>"
   ]
  },
  {
   "cell_type": "code",
   "execution_count": 2,
   "metadata": {
    "ExecuteTime": {
     "end_time": "2020-11-02T02:01:40.139455Z",
     "start_time": "2020-11-02T02:01:33.364430Z"
    }
   },
   "outputs": [],
   "source": [
    "import numpy as np\n",
    "\n",
    "import json\n",
    "import tensorflow as tf\n",
    "\n",
    "from tensorflow.keras.preprocessing.text import Tokenizer\n",
    "from tensorflow.keras.preprocessing.sequence import pad_sequences"
   ]
  },
  {
   "cell_type": "code",
   "execution_count": 4,
   "metadata": {
    "ExecuteTime": {
     "end_time": "2020-11-02T02:01:59.820942Z",
     "start_time": "2020-11-02T02:01:59.723941Z"
    }
   },
   "outputs": [],
   "source": [
    "physical_devices = tf.config.experimental.list_physical_devices('GPU')\n",
    "tf.config.experimental.set_memory_growth(physical_devices[0], True)"
   ]
  },
  {
   "cell_type": "code",
   "execution_count": 5,
   "metadata": {
    "ExecuteTime": {
     "end_time": "2020-11-02T02:02:01.539214Z",
     "start_time": "2020-11-02T02:02:00.719485Z"
    }
   },
   "outputs": [
    {
     "name": "stderr",
     "output_type": "stream",
     "text": [
      "--2020-11-01 23:02:00--  https://storage.googleapis.com/laurencemoroney-blog.appspot.com/sarcasm.json\n",
      "Resolving storage.googleapis.com (storage.googleapis.com)... 2800:3f0:4001:812::2010, 2800:3f0:4001:800::2010, 2800:3f0:4001:807::2010, ...\n",
      "Connecting to storage.googleapis.com (storage.googleapis.com)|2800:3f0:4001:812::2010|:443... connected.\n",
      "HTTP request sent, awaiting response... 200 OK\n",
      "Length: 5643545 (5.4M) [application/json]\n",
      "Saving to: '/tmp/sarcasm.json'\n",
      "\n",
      "     0K .......... .......... .......... .......... ..........  0%  472K 12s\n",
      "    50K .......... .......... .......... .......... ..........  1% 5.80M 6s\n",
      "   100K .......... .......... .......... .......... ..........  2% 6.37M 4s\n",
      "   150K .......... .......... .......... .......... ..........  3% 6.23M 3s\n",
      "   200K .......... .......... .......... .......... ..........  4% 4.78M 3s\n",
      "   250K .......... .......... .......... .......... ..........  5% 5.92M 3s\n",
      "   300K .......... .......... .......... .......... ..........  6% 6.57M 2s\n",
      "   350K .......... .......... .......... .......... ..........  7% 3.43M 2s\n",
      "   400K .......... .......... .......... .......... ..........  8% 6.16M 2s\n",
      "   450K .......... .......... .......... .......... ..........  9% 6.17M 2s\n",
      "   500K .......... .......... .......... .......... ..........  9% 6.35M 2s\n",
      "   550K .......... .......... .......... .......... .......... 10% 6.12M 2s\n",
      "   600K .......... .......... .......... .......... .......... 11% 6.28M 2s\n",
      "   650K .......... .......... .......... .......... .......... 12% 5.57M 1s\n",
      "   700K .......... .......... .......... .......... .......... 13% 5.80M 1s\n",
      "   750K .......... .......... .......... .......... .......... 14% 5.98M 1s\n",
      "   800K .......... .......... .......... .......... .......... 15% 5.69M 1s\n",
      "   850K .......... .......... .......... .......... .......... 16% 5.95M 1s\n",
      "   900K .......... .......... .......... .......... .......... 17% 5.45M 1s\n",
      "   950K .......... .......... .......... .......... .......... 18% 5.72M 1s\n",
      "  1000K .......... .......... .......... .......... .......... 19% 10.3M 1s\n",
      "  1050K .......... .......... .......... .......... .......... 19% 45.9M 1s\n",
      "  1100K .......... .......... .......... .......... .......... 20% 39.6M 1s\n",
      "  1150K .......... .......... .......... .......... .......... 21% 49.0M 1s\n",
      "  1200K .......... .......... .......... .......... .......... 22% 42.0M 1s\n",
      "  1250K .......... .......... .......... .......... .......... 23% 41.8M 1s\n",
      "  1300K .......... .......... .......... .......... .......... 24% 43.3M 1s\n",
      "  1350K .......... .......... .......... .......... .......... 25% 44.8M 1s\n",
      "  1400K .......... .......... .......... .......... .......... 26% 43.1M 1s\n",
      "  1450K .......... .......... .......... .......... .......... 27% 45.0M 1s\n",
      "  1500K .......... .......... .......... .......... .......... 28% 50.2M 1s\n",
      "  1550K .......... .......... .......... .......... .......... 29% 31.4M 1s\n",
      "  1600K .......... .......... .......... .......... .......... 29% 41.8M 1s\n",
      "  1650K .......... .......... .......... .......... .......... 30% 50.7M 1s\n",
      "  1700K .......... .......... .......... .......... .......... 31% 49.6M 1s\n",
      "  1750K .......... .......... .......... .......... .......... 32% 50.9M 1s\n",
      "  1800K .......... .......... .......... .......... .......... 33% 17.4M 1s\n",
      "  1850K .......... .......... .......... .......... .......... 34% 47.5M 1s\n",
      "  1900K .......... .......... .......... .......... .......... 35% 49.8M 1s\n",
      "  1950K .......... .......... .......... .......... .......... 36% 45.7M 1s\n",
      "  2000K .......... .......... .......... .......... .......... 37% 41.0M 1s\n",
      "  2050K .......... .......... .......... .......... .......... 38% 38.0M 0s\n",
      "  2100K .......... .......... .......... .......... .......... 39% 34.1M 0s\n",
      "  2150K .......... .......... .......... .......... .......... 39% 40.7M 0s\n",
      "  2200K .......... .......... .......... .......... .......... 40% 42.4M 0s\n",
      "  2250K .......... .......... .......... .......... .......... 41% 36.2M 0s\n",
      "  2300K .......... .......... .......... .......... .......... 42% 34.9M 0s\n",
      "  2350K .......... .......... .......... .......... .......... 43% 47.9M 0s\n",
      "  2400K .......... .......... .......... .......... .......... 44% 17.7M 0s\n",
      "  2450K .......... .......... .......... .......... .......... 45% 33.8M 0s\n",
      "  2500K .......... .......... .......... .......... .......... 46% 39.4M 0s\n",
      "  2550K .......... .......... .......... .......... .......... 47% 50.2M 0s\n",
      "  2600K .......... .......... .......... .......... .......... 48% 32.8M 0s\n",
      "  2650K .......... .......... .......... .......... .......... 48% 41.8M 0s\n",
      "  2700K .......... .......... .......... .......... .......... 49% 20.4M 0s\n",
      "  2750K .......... .......... .......... .......... .......... 50% 46.4M 0s\n",
      "  2800K .......... .......... .......... .......... .......... 51% 35.2M 0s\n",
      "  2850K .......... .......... .......... .......... .......... 52% 46.5M 0s\n",
      "  2900K .......... .......... .......... .......... .......... 53% 23.3M 0s\n",
      "  2950K .......... .......... .......... .......... .......... 54% 19.4M 0s\n",
      "  3000K .......... .......... .......... .......... .......... 55% 41.5M 0s\n",
      "  3050K .......... .......... .......... .......... .......... 56% 30.6M 0s\n",
      "  3100K .......... .......... .......... .......... .......... 57% 46.3M 0s\n",
      "  3150K .......... .......... .......... .......... .......... 58% 31.9M 0s\n",
      "  3200K .......... .......... .......... .......... .......... 58% 36.8M 0s\n",
      "  3250K .......... .......... .......... .......... .......... 59% 25.7M 0s\n",
      "  3300K .......... .......... .......... .......... .......... 60% 45.4M 0s\n",
      "  3350K .......... .......... .......... .......... .......... 61% 26.9M 0s\n",
      "  3400K .......... .......... .......... .......... .......... 62% 31.6M 0s\n",
      "  3450K .......... .......... .......... .......... .......... 63% 48.9M 0s\n",
      "  3500K .......... .......... .......... .......... .......... 64% 46.2M 0s\n",
      "  3550K .......... .......... .......... .......... .......... 65% 50.3M 0s\n",
      "  3600K .......... .......... .......... .......... .......... 66% 34.7M 0s\n",
      "  3650K .......... .......... .......... .......... .......... 67% 47.7M 0s\n",
      "  3700K .......... .......... .......... .......... .......... 68% 51.2M 0s\n",
      "  3750K .......... .......... .......... .......... .......... 68% 32.8M 0s\n",
      "  3800K .......... .......... .......... .......... .......... 69% 36.2M 0s\n",
      "  3850K .......... .......... .......... .......... .......... 70% 50.3M 0s\n",
      "  3900K .......... .......... .......... .......... .......... 71% 49.3M 0s\n",
      "  3950K .......... .......... .......... .......... .......... 72% 50.6M 0s\n",
      "  4000K .......... .......... .......... .......... .......... 73% 41.9M 0s\n",
      "  4050K .......... .......... .......... .......... .......... 74% 45.3M 0s\n",
      "  4100K .......... .......... .......... .......... .......... 75% 47.0M 0s\n",
      "  4150K .......... .......... .......... .......... .......... 76% 47.6M 0s\n",
      "  4200K .......... .......... .......... .......... .......... 77% 43.0M 0s\n",
      "  4250K .......... .......... .......... .......... .......... 78% 43.8M 0s\n",
      "  4300K .......... .......... .......... .......... .......... 78% 48.3M 0s\n",
      "  4350K .......... .......... .......... .......... .......... 79% 49.5M 0s\n"
     ]
    }
   ],
   "source": [
    "!wget --no-check-certificate \\\n",
    "    https://storage.googleapis.com/laurencemoroney-blog.appspot.com/sarcasm.json \\\n",
    "    -O /tmp/sarcasm.json"
   ]
  },
  {
   "cell_type": "code",
   "execution_count": 6,
   "metadata": {
    "ExecuteTime": {
     "end_time": "2020-11-02T02:02:02.289226Z",
     "start_time": "2020-11-02T02:02:01.666215Z"
    },
    "colab": {},
    "colab_type": "code",
    "id": "jGwXGIXvFhXW"
   },
   "outputs": [
    {
     "name": "stderr",
     "output_type": "stream",
     "text": [
      "  4400K .......... .......... .......... .......... .......... 80% 38.8M 0s\n",
      "  4450K .......... .......... .......... .......... .......... 81% 10.5M 0s\n",
      "  4500K .......... .......... .......... .......... .......... 82% 4.10M 0s\n",
      "  4550K .......... .......... .......... .......... .......... 83% 4.77M 0s\n",
      "  4600K .......... .......... .......... .......... .......... 84% 11.4M 0s\n",
      "  4650K .......... .......... .......... .......... .......... 85% 16.7M 0s\n",
      "  4700K .......... .......... .......... .......... .......... 86% 22.6M 0s\n",
      "  4750K .......... .......... .......... .......... .......... 87% 22.1M 0s\n",
      "  4800K .......... .......... .......... .......... .......... 88% 13.9M 0s\n",
      "  4850K .......... .......... .......... .......... .......... 88% 13.3M 0s\n",
      "  4900K .......... .......... .......... .......... .......... 89% 31.8M 0s\n",
      "  4950K .......... .......... .......... .......... .......... 90% 18.9M 0s\n",
      "  5000K .......... .......... .......... .......... .......... 91% 19.9M 0s\n",
      "  5050K .......... .......... .......... .......... .......... 92% 17.3M 0s\n",
      "  5100K .......... .......... .......... .......... .......... 93% 42.0M 0s\n",
      "  5150K .......... .......... .......... .......... .......... 94% 33.6M 0s\n",
      "  5200K .......... .......... .......... .......... .......... 95% 36.6M 0s\n",
      "  5250K .......... .......... .......... .......... .......... 96% 32.0M 0s\n",
      "  5300K .......... .......... .......... .......... .......... 97% 34.8M 0s\n",
      "  5350K .......... .......... .......... .......... .......... 97% 49.0M 0s\n",
      "  5400K .......... .......... .......... .......... .......... 98% 38.1M 0s\n",
      "  5450K .......... .......... .......... .......... .......... 99% 49.1M 0s\n",
      "  5500K .......... .                                          100% 63.5M=0.4s\n",
      "\n",
      "2020-11-01 23:02:01 (12.6 MB/s) - '/tmp/sarcasm.json' saved [5643545/5643545]\n",
      "\n"
     ]
    }
   ],
   "source": [
    "vocab_size = 1000\n",
    "embedding_dim = 16\n",
    "max_length = 120\n",
    "trunc_type='post'\n",
    "padding_type='post'\n",
    "oov_tok = \"<OOV>\"\n",
    "training_size = 20000\n",
    "\n",
    "\n",
    "with open(\"/tmp/sarcasm.json\", 'r') as f:\n",
    "    datastore = json.load(f)\n",
    "\n",
    "\n",
    "sentences = []\n",
    "labels = []\n",
    "urls = []\n",
    "for item in datastore:\n",
    "    sentences.append(item['headline'])\n",
    "    labels.append(item['is_sarcastic'])\n",
    "\n",
    "training_sentences = sentences[0:training_size]\n",
    "testing_sentences = sentences[training_size:]\n",
    "training_labels = labels[0:training_size]\n",
    "testing_labels = labels[training_size:]\n",
    "\n",
    "tokenizer = Tokenizer(num_words=vocab_size, oov_token=oov_tok)\n",
    "tokenizer.fit_on_texts(training_sentences)\n",
    "\n",
    "word_index = tokenizer.word_index\n",
    "\n",
    "training_sequences = tokenizer.texts_to_sequences(training_sentences)\n",
    "training_padded = pad_sequences(training_sequences, maxlen=max_length, padding=padding_type, truncating=trunc_type)\n",
    "\n",
    "testing_sequences = tokenizer.texts_to_sequences(testing_sentences)\n",
    "testing_padded = pad_sequences(testing_sequences, maxlen=max_length, padding=padding_type, truncating=trunc_type)"
   ]
  },
  {
   "cell_type": "code",
   "execution_count": 8,
   "metadata": {
    "ExecuteTime": {
     "end_time": "2020-11-02T02:02:33.920788Z",
     "start_time": "2020-11-02T02:02:33.863789Z"
    }
   },
   "outputs": [
    {
     "name": "stdout",
     "output_type": "stream",
     "text": [
      "Model: \"sequential_1\"\n",
      "_________________________________________________________________\n",
      "Layer (type)                 Output Shape              Param #   \n",
      "=================================================================\n",
      "embedding_1 (Embedding)      (None, 120, 16)           16000     \n",
      "_________________________________________________________________\n",
      "conv1d_1 (Conv1D)            (None, 116, 128)          10368     \n",
      "_________________________________________________________________\n",
      "global_max_pooling1d_1 (Glob (None, 128)               0         \n",
      "_________________________________________________________________\n",
      "dense_2 (Dense)              (None, 24)                3096      \n",
      "_________________________________________________________________\n",
      "dense_3 (Dense)              (None, 1)                 25        \n",
      "=================================================================\n",
      "Total params: 29,489\n",
      "Trainable params: 29,489\n",
      "Non-trainable params: 0\n",
      "_________________________________________________________________\n"
     ]
    }
   ],
   "source": [
    "model = tf.keras.Sequential([\n",
    "    tf.keras.layers.Embedding(vocab_size, embedding_dim, input_length=max_length),\n",
    "    tf.keras.layers.Conv1D(128, 5, activation='relu'),\n",
    "    tf.keras.layers.GlobalMaxPooling1D(),\n",
    "    tf.keras.layers.Dense(24, activation='relu'),\n",
    "    tf.keras.layers.Dense(1, activation='sigmoid')\n",
    "])\n",
    "model.compile(loss='binary_crossentropy',optimizer='adam',metrics=['accuracy'])\n",
    "model.summary()\n",
    "\n",
    "num_epochs = 50\n",
    "\n",
    "training_padded = np.array(training_padded)\n",
    "training_labels = np.array(training_labels)\n",
    "testing_padded = np.array(testing_padded)\n",
    "testing_labels = np.array(testing_labels)"
   ]
  },
  {
   "cell_type": "code",
   "execution_count": 9,
   "metadata": {
    "ExecuteTime": {
     "end_time": "2020-11-02T02:04:29.169631Z",
     "start_time": "2020-11-02T02:02:38.509192Z"
    },
    "scrolled": true
   },
   "outputs": [
    {
     "name": "stdout",
     "output_type": "stream",
     "text": [
      "Epoch 1/50\n",
      "625/625 [==============================] - 2s 4ms/step - loss: 0.4654 - accuracy: 0.7662 - val_loss: 0.4039 - val_accuracy: 0.8150\n",
      "Epoch 2/50\n",
      "625/625 [==============================] - 2s 3ms/step - loss: 0.3579 - accuracy: 0.8393 - val_loss: 0.3952 - val_accuracy: 0.8207\n",
      "Epoch 3/50\n",
      "625/625 [==============================] - 2s 3ms/step - loss: 0.3166 - accuracy: 0.8615 - val_loss: 0.4069 - val_accuracy: 0.8171\n",
      "Epoch 4/50\n",
      "625/625 [==============================] - 2s 3ms/step - loss: 0.2853 - accuracy: 0.8780 - val_loss: 0.4140 - val_accuracy: 0.8204\n",
      "Epoch 5/50\n",
      "625/625 [==============================] - 2s 4ms/step - loss: 0.2507 - accuracy: 0.8962 - val_loss: 0.4318 - val_accuracy: 0.8199\n",
      "Epoch 6/50\n",
      "625/625 [==============================] - 2s 4ms/step - loss: 0.2164 - accuracy: 0.9131 - val_loss: 0.4648 - val_accuracy: 0.8158\n",
      "Epoch 7/50\n",
      "625/625 [==============================] - 2s 3ms/step - loss: 0.1812 - accuracy: 0.9304 - val_loss: 0.5565 - val_accuracy: 0.8024\n",
      "Epoch 8/50\n",
      "625/625 [==============================] - 2s 3ms/step - loss: 0.1527 - accuracy: 0.9426 - val_loss: 0.5976 - val_accuracy: 0.7959\n",
      "Epoch 9/50\n",
      "625/625 [==============================] - 2s 3ms/step - loss: 0.1268 - accuracy: 0.9533 - val_loss: 0.6349 - val_accuracy: 0.8116\n",
      "Epoch 10/50\n",
      "625/625 [==============================] - 2s 3ms/step - loss: 0.1034 - accuracy: 0.9623 - val_loss: 0.6795 - val_accuracy: 0.8107\n",
      "Epoch 11/50\n",
      "625/625 [==============================] - 2s 3ms/step - loss: 0.0852 - accuracy: 0.9690 - val_loss: 0.7583 - val_accuracy: 0.8106\n",
      "Epoch 12/50\n",
      "625/625 [==============================] - 2s 3ms/step - loss: 0.0700 - accuracy: 0.9765 - val_loss: 0.8335 - val_accuracy: 0.8000\n",
      "Epoch 13/50\n",
      "625/625 [==============================] - 2s 4ms/step - loss: 0.0597 - accuracy: 0.9794 - val_loss: 0.9508 - val_accuracy: 0.7992\n",
      "Epoch 14/50\n",
      "625/625 [==============================] - 2s 4ms/step - loss: 0.0552 - accuracy: 0.9801 - val_loss: 0.9910 - val_accuracy: 0.7925\n",
      "Epoch 15/50\n",
      "625/625 [==============================] - 2s 4ms/step - loss: 0.0519 - accuracy: 0.9803 - val_loss: 1.1070 - val_accuracy: 0.7898\n",
      "Epoch 16/50\n",
      "625/625 [==============================] - 2s 4ms/step - loss: 0.0472 - accuracy: 0.9822 - val_loss: 1.1628 - val_accuracy: 0.8004\n",
      "Epoch 17/50\n",
      "625/625 [==============================] - 2s 3ms/step - loss: 0.0412 - accuracy: 0.9844 - val_loss: 1.2690 - val_accuracy: 0.7952\n",
      "Epoch 18/50\n",
      "625/625 [==============================] - 2s 3ms/step - loss: 0.0385 - accuracy: 0.9851 - val_loss: 1.3098 - val_accuracy: 0.7866\n",
      "Epoch 19/50\n",
      "625/625 [==============================] - 2s 3ms/step - loss: 0.0330 - accuracy: 0.9869 - val_loss: 1.3636 - val_accuracy: 0.7936\n",
      "Epoch 20/50\n",
      "625/625 [==============================] - 2s 3ms/step - loss: 0.0348 - accuracy: 0.9858 - val_loss: 1.4970 - val_accuracy: 0.7907\n",
      "Epoch 21/50\n",
      "625/625 [==============================] - 2s 3ms/step - loss: 0.0389 - accuracy: 0.9842 - val_loss: 1.4469 - val_accuracy: 0.7885\n",
      "Epoch 22/50\n",
      "625/625 [==============================] - 2s 3ms/step - loss: 0.0384 - accuracy: 0.9842 - val_loss: 1.5672 - val_accuracy: 0.7904\n",
      "Epoch 23/50\n",
      "625/625 [==============================] - 2s 3ms/step - loss: 0.0350 - accuracy: 0.9860 - val_loss: 1.5889 - val_accuracy: 0.7924\n",
      "Epoch 24/50\n",
      "625/625 [==============================] - 2s 3ms/step - loss: 0.0285 - accuracy: 0.9890 - val_loss: 1.6432 - val_accuracy: 0.7925\n",
      "Epoch 25/50\n",
      "625/625 [==============================] - 2s 4ms/step - loss: 0.0252 - accuracy: 0.9893 - val_loss: 1.6992 - val_accuracy: 0.7895\n",
      "Epoch 26/50\n",
      "625/625 [==============================] - 2s 3ms/step - loss: 0.0219 - accuracy: 0.9906 - val_loss: 1.7188 - val_accuracy: 0.7940\n",
      "Epoch 27/50\n",
      "625/625 [==============================] - 2s 3ms/step - loss: 0.0245 - accuracy: 0.9900 - val_loss: 1.8360 - val_accuracy: 0.7883\n",
      "Epoch 28/50\n",
      "625/625 [==============================] - 2s 4ms/step - loss: 0.0388 - accuracy: 0.9843 - val_loss: 1.7272 - val_accuracy: 0.7843\n",
      "Epoch 29/50\n",
      "625/625 [==============================] - 2s 4ms/step - loss: 0.0324 - accuracy: 0.9870 - val_loss: 1.8933 - val_accuracy: 0.7855\n",
      "Epoch 30/50\n",
      "625/625 [==============================] - 2s 3ms/step - loss: 0.0223 - accuracy: 0.9905 - val_loss: 1.9590 - val_accuracy: 0.7891\n",
      "Epoch 31/50\n",
      "625/625 [==============================] - 2s 3ms/step - loss: 0.0204 - accuracy: 0.9915 - val_loss: 1.9915 - val_accuracy: 0.7837\n",
      "Epoch 32/50\n",
      "625/625 [==============================] - 2s 3ms/step - loss: 0.0223 - accuracy: 0.9907 - val_loss: 2.0220 - val_accuracy: 0.7886\n",
      "Epoch 33/50\n",
      "625/625 [==============================] - 2s 4ms/step - loss: 0.0265 - accuracy: 0.9894 - val_loss: 1.9392 - val_accuracy: 0.7900\n",
      "Epoch 34/50\n",
      "625/625 [==============================] - 2s 3ms/step - loss: 0.0297 - accuracy: 0.9880 - val_loss: 1.9714 - val_accuracy: 0.7907\n",
      "Epoch 35/50\n",
      "625/625 [==============================] - 2s 3ms/step - loss: 0.0264 - accuracy: 0.9890 - val_loss: 2.1687 - val_accuracy: 0.7888\n",
      "Epoch 36/50\n",
      "625/625 [==============================] - 2s 4ms/step - loss: 0.0225 - accuracy: 0.9900 - val_loss: 2.0792 - val_accuracy: 0.7895\n",
      "Epoch 37/50\n",
      "625/625 [==============================] - 2s 4ms/step - loss: 0.0185 - accuracy: 0.9917 - val_loss: 2.2536 - val_accuracy: 0.7915\n",
      "Epoch 38/50\n",
      "625/625 [==============================] - 2s 3ms/step - loss: 0.0234 - accuracy: 0.9901 - val_loss: 2.2413 - val_accuracy: 0.7806\n",
      "Epoch 39/50\n",
      "625/625 [==============================] - 2s 3ms/step - loss: 0.0213 - accuracy: 0.9908 - val_loss: 2.3617 - val_accuracy: 0.7828\n",
      "Epoch 40/50\n",
      "625/625 [==============================] - 2s 3ms/step - loss: 0.0193 - accuracy: 0.9912 - val_loss: 2.3008 - val_accuracy: 0.7916\n",
      "Epoch 41/50\n",
      "625/625 [==============================] - 2s 3ms/step - loss: 0.0220 - accuracy: 0.9905 - val_loss: 2.2483 - val_accuracy: 0.7921\n",
      "Epoch 42/50\n",
      "625/625 [==============================] - 2s 3ms/step - loss: 0.0247 - accuracy: 0.9896 - val_loss: 2.3417 - val_accuracy: 0.7894\n",
      "Epoch 43/50\n",
      "625/625 [==============================] - 2s 3ms/step - loss: 0.0240 - accuracy: 0.9898 - val_loss: 2.3185 - val_accuracy: 0.7939\n",
      "Epoch 44/50\n",
      "625/625 [==============================] - 2s 3ms/step - loss: 0.0204 - accuracy: 0.9908 - val_loss: 2.3488 - val_accuracy: 0.7895\n",
      "Epoch 45/50\n",
      "625/625 [==============================] - 2s 4ms/step - loss: 0.0163 - accuracy: 0.9930 - val_loss: 2.4863 - val_accuracy: 0.7900\n",
      "Epoch 46/50\n",
      "625/625 [==============================] - 2s 3ms/step - loss: 0.0210 - accuracy: 0.9898 - val_loss: 2.3023 - val_accuracy: 0.7892\n",
      "Epoch 47/50\n",
      "625/625 [==============================] - 2s 3ms/step - loss: 0.0192 - accuracy: 0.9915 - val_loss: 2.4604 - val_accuracy: 0.7921\n",
      "Epoch 48/50\n",
      "625/625 [==============================] - 2s 4ms/step - loss: 0.0197 - accuracy: 0.9912 - val_loss: 2.4668 - val_accuracy: 0.7964\n",
      "Epoch 49/50\n",
      "625/625 [==============================] - 2s 3ms/step - loss: 0.0206 - accuracy: 0.9919 - val_loss: 2.4278 - val_accuracy: 0.7910\n",
      "Epoch 50/50\n",
      "625/625 [==============================] - 2s 4ms/step - loss: 0.0200 - accuracy: 0.9911 - val_loss: 2.3911 - val_accuracy: 0.7904\n"
     ]
    }
   ],
   "source": [
    "history = model.fit(training_padded, training_labels, \n",
    "                    epochs=num_epochs, \n",
    "                    validation_data=(testing_padded, testing_labels), \n",
    "                    verbose=1)"
   ]
  },
  {
   "cell_type": "code",
   "execution_count": 10,
   "metadata": {
    "ExecuteTime": {
     "end_time": "2020-11-02T02:04:31.270172Z",
     "start_time": "2020-11-02T02:04:29.174627Z"
    },
    "colab": {},
    "colab_type": "code",
    "id": "g9DC6dmLF8DC"
   },
   "outputs": [
    {
     "data": {
      "image/png": "[encoded data removed]",
      "text/plain": [
       "<Figure size 432x288 with 1 Axes>"
      ]
     },
     "metadata": {
      "needs_background": "light"
     },
     "output_type": "display_data"
    },
    {
     "data": {
      "image/png": "[encoded data removed]",
      "text/plain": [
       "<Figure size 432x288 with 1 Axes>"
      ]
     },
     "metadata": {
      "needs_background": "light"
     },
     "output_type": "display_data"
    }
   ],
   "source": [
    "import matplotlib.pyplot as plt\n",
    "\n",
    "\n",
    "def plot_graphs(history, string):\n",
    "  plt.plot(history.history[string])\n",
    "  plt.plot(history.history['val_'+string])\n",
    "  plt.xlabel(\"Epochs\")\n",
    "  plt.ylabel(string)\n",
    "  plt.legend([string, 'val_'+string])\n",
    "  plt.show()\n",
    "\n",
    "plot_graphs(history, 'accuracy')\n",
    "plot_graphs(history, 'loss')"
   ]
  },
  {
   "cell_type": "code",
   "execution_count": null,
   "metadata": {
    "ExecuteTime": {
     "end_time": "2020-11-02T02:01:40.161448Z",
     "start_time": "2020-11-02T02:01:33.327Z"
    },
    "colab": {},
    "colab_type": "code",
    "id": "7ZEZIUppGhdi"
   },
   "outputs": [],
   "source": [
    "model.save(\"test.h5\")"
   ]
  }
 ],
 "metadata": {
  "accelerator": "GPU",
  "colab": {
   "collapsed_sections": [],
   "name": "Course 3 - Week 3 - Lesson 2c.ipynb",
   "provenance": [],
   "toc_visible": true,
   "version": "0.3.2"
  },
  "kernelspec": {
   "display_name": "Python 3",
   "language": "python",
   "name": "python3"
  },
  "language_info": {
   "codemirror_mode": {
    "name": "ipython",
    "version": 3
   },
   "file_extension": ".py",
   "mimetype": "text/x-python",
   "name": "python",
   "nbconvert_exporter": "python",
   "pygments_lexer": "ipython3",
   "version": "3.8.6"
  },
  "toc": {
   "base_numbering": 1,
   "nav_menu": {},
   "number_sections": true,
   "sideBar": true,
   "skip_h1_title": false,
   "title_cell": "Table of Contents",
   "title_sidebar": "Contents",
   "toc_cell": false,
   "toc_position": {},
   "toc_section_display": true,
   "toc_window_display": false
  }
 },
 "nbformat": 4,
 "nbformat_minor": 1
}
