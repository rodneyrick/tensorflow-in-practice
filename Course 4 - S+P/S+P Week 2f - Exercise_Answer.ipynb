{
 "cells": [
  {
   "cell_type": "code",
   "execution_count": 1,
   "metadata": {
    "ExecuteTime": {
     "end_time": "2020-08-16T02:08:42.116153Z",
     "start_time": "2020-08-16T02:08:42.107179Z"
    },
    "colab": {},
    "colab_type": "code",
    "id": "zX4Kg8DUTKWO"
   },
   "outputs": [],
   "source": [
    "#@title Licensed under the Apache License, Version 2.0 (the \"License\");\n",
    "# you may not use this file except in compliance with the License.\n",
    "# You may obtain a copy of the License at\n",
    "#\n",
    "# https://www.apache.org/licenses/LICENSE-2.0\n",
    "#\n",
    "# Unless required by applicable law or agreed to in writing, software\n",
    "# distributed under the License is distributed on an \"AS IS\" BASIS,\n",
    "# WITHOUT WARRANTIES OR CONDITIONS OF ANY KIND, either express or implied.\n",
    "# See the License for the specific language governing permissions and\n",
    "# limitations under the License."
   ]
  },
  {
   "cell_type": "code",
   "execution_count": 2,
   "metadata": {
    "ExecuteTime": {
     "end_time": "2020-08-16T02:08:42.131113Z",
     "start_time": "2020-08-16T02:08:42.117150Z"
    },
    "cellView": "both",
    "colab": {},
    "colab_type": "code",
    "id": "D1J15Vh_1Jih"
   },
   "outputs": [],
   "source": [
    "#!pip install tf-nightly-2.0-preview"
   ]
  },
  {
   "cell_type": "code",
   "execution_count": 3,
   "metadata": {
    "ExecuteTime": {
     "end_time": "2020-08-16T02:08:45.854646Z",
     "start_time": "2020-08-16T02:08:42.133108Z"
    },
    "colab": {},
    "colab_type": "code",
    "id": "BOjujz601HcS"
   },
   "outputs": [
    {
     "name": "stdout",
     "output_type": "stream",
     "text": [
      "2.1.0\n"
     ]
    }
   ],
   "source": [
    "import tensorflow as tf\n",
    "import numpy as np\n",
    "import matplotlib.pyplot as plt\n",
    "print(tf.__version__)"
   ]
  },
  {
   "cell_type": "code",
   "execution_count": 4,
   "metadata": {
    "ExecuteTime": {
     "end_time": "2020-08-16T02:08:45.996279Z",
     "start_time": "2020-08-16T02:08:45.858635Z"
    },
    "colab": {},
    "colab_type": "code",
    "id": "Zswl7jRtGzkk"
   },
   "outputs": [
    {
     "data": {
      "image/png": "[encoded data removed]",
      "text/plain": [
       "<Figure size 432x288 with 1 Axes>"
      ]
     },
     "metadata": {
      "needs_background": "light"
     },
     "output_type": "display_data"
    }
   ],
   "source": [
    "def plot_series(time, series, format=\"-\", start=0, end=None):\n",
    "    plt.plot(time[start:end], series[start:end], format)\n",
    "    plt.xlabel(\"Time\")\n",
    "    plt.ylabel(\"Value\")\n",
    "    plt.grid(False)\n",
    "\n",
    "def trend(time, slope=0):\n",
    "    return slope * time\n",
    "\n",
    "def seasonal_pattern(season_time):\n",
    "    \"\"\"Just an arbitrary pattern, you can change it if you wish\"\"\"\n",
    "    return np.where(season_time < 0.1,\n",
    "                    np.cos(season_time * 6 * np.pi),\n",
    "                    2 / np.exp(9 * season_time))\n",
    "\n",
    "def seasonality(time, period, amplitude=1, phase=0):\n",
    "    \"\"\"Repeats the same pattern at each period\"\"\"\n",
    "    season_time = ((time + phase) % period) / period\n",
    "    return amplitude * seasonal_pattern(season_time)\n",
    "\n",
    "def noise(time, noise_level=1, seed=None):\n",
    "    rnd = np.random.RandomState(seed)\n",
    "    return rnd.randn(len(time)) * noise_level\n",
    "\n",
    "time = np.arange(10 * 365 + 1, dtype=\"float32\")\n",
    "baseline = 10\n",
    "series = trend(time, 0.1)  \n",
    "baseline = 10\n",
    "amplitude = 40\n",
    "slope = 0.005\n",
    "noise_level = 3\n",
    "\n",
    "# Create the series\n",
    "series = baseline + trend(time, slope) + seasonality(time, period=365, amplitude=amplitude)\n",
    "# Update with noise\n",
    "series += noise(time, noise_level, seed=51)\n",
    "\n",
    "split_time = 3000\n",
    "time_train = time[:split_time]\n",
    "x_train = series[:split_time]\n",
    "time_valid = time[split_time:]\n",
    "x_valid = series[split_time:]\n",
    "\n",
    "window_size = 20\n",
    "batch_size = 32\n",
    "shuffle_buffer_size = 1000\n",
    "\n",
    "plot_series(time, series)"
   ]
  },
  {
   "cell_type": "code",
   "execution_count": 5,
   "metadata": {
    "ExecuteTime": {
     "end_time": "2020-08-16T02:08:46.011240Z",
     "start_time": "2020-08-16T02:08:45.997277Z"
    },
    "colab": {},
    "colab_type": "code",
    "id": "4sTTIOCbyShY"
   },
   "outputs": [],
   "source": [
    "def windowed_dataset(series, window_size, batch_size, shuffle_buffer):\n",
    "  dataset = tf.data.Dataset.from_tensor_slices(series)\n",
    "  dataset = dataset.window(window_size + 1, shift=1, drop_remainder=True)\n",
    "  dataset = dataset.flat_map(lambda window: window.batch(window_size + 1))\n",
    "  dataset = dataset.shuffle(shuffle_buffer).map(lambda window: (window[:-1], window[-1]))\n",
    "  dataset = dataset.batch(batch_size).prefetch(1)\n",
    "  return dataset"
   ]
  },
  {
   "cell_type": "code",
   "execution_count": 6,
   "metadata": {
    "ExecuteTime": {
     "end_time": "2020-08-16T02:09:27.224818Z",
     "start_time": "2020-08-16T02:08:46.012238Z"
    },
    "colab": {},
    "colab_type": "code",
    "id": "TW-vT7eLYAdb",
    "scrolled": true
   },
   "outputs": [
    {
     "name": "stdout",
     "output_type": "stream",
     "text": [
      "Epoch 1/100\n",
      "94/94 [==============================] - 1s 10ms/step - loss: 154.7615\n",
      "Epoch 2/100\n",
      "94/94 [==============================] - 0s 4ms/step - loss: 35.0979\n",
      "Epoch 3/100\n",
      "94/94 [==============================] - 0s 4ms/step - loss: 31.4231\n",
      "Epoch 4/100\n",
      "94/94 [==============================] - 0s 4ms/step - loss: 29.5236\n",
      "Epoch 5/100\n",
      "94/94 [==============================] - 0s 4ms/step - loss: 28.4730\n",
      "Epoch 6/100\n",
      "94/94 [==============================] - 0s 4ms/step - loss: 27.7070\n",
      "Epoch 7/100\n",
      "94/94 [==============================] - 0s 4ms/step - loss: 27.0115\n",
      "Epoch 8/100\n",
      "94/94 [==============================] - 0s 4ms/step - loss: 26.4133\n",
      "Epoch 9/100\n",
      "94/94 [==============================] - 0s 4ms/step - loss: 26.3091\n",
      "Epoch 10/100\n",
      "94/94 [==============================] - 0s 4ms/step - loss: 25.7313\n",
      "Epoch 11/100\n",
      "94/94 [==============================] - 0s 4ms/step - loss: 25.5624\n",
      "Epoch 12/100\n",
      "94/94 [==============================] - 0s 4ms/step - loss: 25.2407\n",
      "Epoch 13/100\n",
      "94/94 [==============================] - 0s 4ms/step - loss: 25.1188\n",
      "Epoch 14/100\n",
      "94/94 [==============================] - 0s 4ms/step - loss: 24.6583\n",
      "Epoch 15/100\n",
      "94/94 [==============================] - 0s 4ms/step - loss: 24.3704\n",
      "Epoch 16/100\n",
      "94/94 [==============================] - 0s 4ms/step - loss: 24.4983\n",
      "Epoch 17/100\n",
      "94/94 [==============================] - 0s 4ms/step - loss: 24.0203\n",
      "Epoch 18/100\n",
      "94/94 [==============================] - 0s 4ms/step - loss: 24.0642\n",
      "Epoch 19/100\n",
      "94/94 [==============================] - 0s 4ms/step - loss: 27.7292\n",
      "Epoch 20/100\n",
      "94/94 [==============================] - 0s 4ms/step - loss: 24.5054\n",
      "Epoch 21/100\n",
      "94/94 [==============================] - 0s 4ms/step - loss: 23.6954\n",
      "Epoch 22/100\n",
      "94/94 [==============================] - 0s 4ms/step - loss: 23.9786\n",
      "Epoch 23/100\n",
      "94/94 [==============================] - 0s 4ms/step - loss: 23.5655\n",
      "Epoch 24/100\n",
      "94/94 [==============================] - 0s 4ms/step - loss: 23.4577\n",
      "Epoch 25/100\n",
      "94/94 [==============================] - 0s 4ms/step - loss: 23.5559\n",
      "Epoch 26/100\n",
      "94/94 [==============================] - 0s 4ms/step - loss: 23.1639\n",
      "Epoch 27/100\n",
      "94/94 [==============================] - 0s 4ms/step - loss: 23.3194\n",
      "Epoch 28/100\n",
      "94/94 [==============================] - 0s 4ms/step - loss: 22.9387\n",
      "Epoch 29/100\n",
      "94/94 [==============================] - 0s 4ms/step - loss: 23.0204\n",
      "Epoch 30/100\n",
      "94/94 [==============================] - 0s 4ms/step - loss: 22.9684\n",
      "Epoch 31/100\n",
      "94/94 [==============================] - 0s 4ms/step - loss: 22.9001\n",
      "Epoch 32/100\n",
      "94/94 [==============================] - 0s 4ms/step - loss: 22.9704\n",
      "Epoch 33/100\n",
      "94/94 [==============================] - 0s 4ms/step - loss: 22.7960\n",
      "Epoch 34/100\n",
      "94/94 [==============================] - 0s 4ms/step - loss: 22.7154\n",
      "Epoch 35/100\n",
      "94/94 [==============================] - 0s 4ms/step - loss: 22.7635\n",
      "Epoch 36/100\n",
      "94/94 [==============================] - 0s 4ms/step - loss: 22.7082\n",
      "Epoch 37/100\n",
      "94/94 [==============================] - 0s 4ms/step - loss: 22.6477\n",
      "Epoch 38/100\n",
      "94/94 [==============================] - 0s 4ms/step - loss: 22.5927\n",
      "Epoch 39/100\n",
      "94/94 [==============================] - 0s 4ms/step - loss: 22.6485\n",
      "Epoch 40/100\n",
      "94/94 [==============================] - 0s 4ms/step - loss: 24.3533\n",
      "Epoch 41/100\n",
      "94/94 [==============================] - 0s 4ms/step - loss: 22.5959\n",
      "Epoch 42/100\n",
      "94/94 [==============================] - 0s 4ms/step - loss: 22.4628\n",
      "Epoch 43/100\n",
      "94/94 [==============================] - 0s 4ms/step - loss: 22.4072\n",
      "Epoch 44/100\n",
      "94/94 [==============================] - 0s 4ms/step - loss: 22.3349\n",
      "Epoch 45/100\n",
      "94/94 [==============================] - 0s 4ms/step - loss: 22.5844\n",
      "Epoch 46/100\n",
      "94/94 [==============================] - 0s 4ms/step - loss: 22.5504\n",
      "Epoch 47/100\n",
      "94/94 [==============================] - 0s 4ms/step - loss: 22.9500\n",
      "Epoch 48/100\n",
      "94/94 [==============================] - 0s 4ms/step - loss: 22.2986\n",
      "Epoch 49/100\n",
      "94/94 [==============================] - 0s 4ms/step - loss: 22.2943\n",
      "Epoch 50/100\n",
      "94/94 [==============================] - 0s 4ms/step - loss: 24.2533\n",
      "Epoch 51/100\n",
      "94/94 [==============================] - 0s 4ms/step - loss: 22.3108\n",
      "Epoch 52/100\n",
      "94/94 [==============================] - 0s 4ms/step - loss: 22.2466\n",
      "Epoch 53/100\n",
      "94/94 [==============================] - 0s 4ms/step - loss: 22.2262\n",
      "Epoch 54/100\n",
      "94/94 [==============================] - 0s 4ms/step - loss: 22.1530\n",
      "Epoch 55/100\n",
      "94/94 [==============================] - 0s 4ms/step - loss: 22.0790\n",
      "Epoch 56/100\n",
      "94/94 [==============================] - 0s 4ms/step - loss: 22.0691\n",
      "Epoch 57/100\n",
      "94/94 [==============================] - 0s 4ms/step - loss: 22.0181\n",
      "Epoch 58/100\n",
      "94/94 [==============================] - 0s 4ms/step - loss: 22.2429\n",
      "Epoch 59/100\n",
      "94/94 [==============================] - 0s 4ms/step - loss: 22.0477\n",
      "Epoch 60/100\n",
      "94/94 [==============================] - 0s 4ms/step - loss: 21.9538\n",
      "Epoch 61/100\n",
      "94/94 [==============================] - 0s 4ms/step - loss: 21.8842\n",
      "Epoch 62/100\n",
      "94/94 [==============================] - 0s 4ms/step - loss: 21.9368\n",
      "Epoch 63/100\n",
      "94/94 [==============================] - 0s 4ms/step - loss: 21.7703\n",
      "Epoch 64/100\n",
      "94/94 [==============================] - 0s 4ms/step - loss: 21.8233\n",
      "Epoch 65/100\n",
      "94/94 [==============================] - 0s 4ms/step - loss: 21.6725\n",
      "Epoch 66/100\n",
      "94/94 [==============================] - 0s 4ms/step - loss: 21.7500\n",
      "Epoch 67/100\n",
      "94/94 [==============================] - 0s 4ms/step - loss: 21.6307\n",
      "Epoch 68/100\n",
      "94/94 [==============================] - 0s 4ms/step - loss: 21.6554\n",
      "Epoch 69/100\n",
      "94/94 [==============================] - 0s 4ms/step - loss: 21.7306\n",
      "Epoch 70/100\n",
      "94/94 [==============================] - 0s 4ms/step - loss: 21.5352\n",
      "Epoch 71/100\n",
      "94/94 [==============================] - 0s 4ms/step - loss: 21.6136\n",
      "Epoch 72/100\n",
      "94/94 [==============================] - 0s 4ms/step - loss: 21.5487\n",
      "Epoch 73/100\n",
      "94/94 [==============================] - 0s 4ms/step - loss: 21.6446\n",
      "Epoch 74/100\n",
      "94/94 [==============================] - 0s 4ms/step - loss: 21.5973\n",
      "Epoch 75/100\n",
      "94/94 [==============================] - 0s 4ms/step - loss: 21.4903\n",
      "Epoch 76/100\n",
      "94/94 [==============================] - 0s 4ms/step - loss: 21.8069\n",
      "Epoch 77/100\n",
      "94/94 [==============================] - 0s 4ms/step - loss: 21.6175\n",
      "Epoch 78/100\n",
      "94/94 [==============================] - 0s 4ms/step - loss: 21.4995\n",
      "Epoch 79/100\n",
      "94/94 [==============================] - 0s 4ms/step - loss: 21.5232\n",
      "Epoch 80/100\n",
      "94/94 [==============================] - 0s 4ms/step - loss: 23.8491\n",
      "Epoch 81/100\n",
      "94/94 [==============================] - 0s 4ms/step - loss: 21.8357\n",
      "Epoch 82/100\n",
      "94/94 [==============================] - 0s 4ms/step - loss: 21.4158\n",
      "Epoch 83/100\n",
      "94/94 [==============================] - 0s 4ms/step - loss: 21.3936\n",
      "Epoch 84/100\n",
      "94/94 [==============================] - 0s 4ms/step - loss: 21.2359\n",
      "Epoch 85/100\n",
      "94/94 [==============================] - 0s 4ms/step - loss: 21.3847\n",
      "Epoch 86/100\n",
      "94/94 [==============================] - 0s 4ms/step - loss: 21.4851\n",
      "Epoch 87/100\n",
      "94/94 [==============================] - 0s 4ms/step - loss: 21.4483\n",
      "Epoch 88/100\n",
      "94/94 [==============================] - 0s 4ms/step - loss: 21.3206\n",
      "Epoch 89/100\n",
      "94/94 [==============================] - 0s 4ms/step - loss: 21.2990\n",
      "Epoch 90/100\n",
      "94/94 [==============================] - 0s 4ms/step - loss: 21.2337\n",
      "Epoch 91/100\n",
      "94/94 [==============================] - 0s 4ms/step - loss: 21.2987\n",
      "Epoch 92/100\n",
      "94/94 [==============================] - 0s 4ms/step - loss: 21.2700\n",
      "Epoch 93/100\n",
      "94/94 [==============================] - 0s 4ms/step - loss: 21.1846\n",
      "Epoch 94/100\n",
      "94/94 [==============================] - 0s 4ms/step - loss: 21.6694\n",
      "Epoch 95/100\n",
      "94/94 [==============================] - 0s 4ms/step - loss: 21.6536\n",
      "Epoch 96/100\n",
      "94/94 [==============================] - 0s 4ms/step - loss: 21.1457\n",
      "Epoch 97/100\n",
      "94/94 [==============================] - 0s 4ms/step - loss: 21.1486\n",
      "Epoch 98/100\n",
      "94/94 [==============================] - 0s 5ms/step - loss: 20.9984\n",
      "Epoch 99/100\n",
      "94/94 [==============================] - 0s 4ms/step - loss: 21.3093\n",
      "Epoch 100/100\n",
      "94/94 [==============================] - 0s 4ms/step - loss: 20.9510\n"
     ]
    },
    {
     "data": {
      "text/plain": [
       "<tensorflow.python.keras.callbacks.History at 0x21007de3d08>"
      ]
     },
     "execution_count": 6,
     "metadata": {},
     "output_type": "execute_result"
    }
   ],
   "source": [
    "dataset = windowed_dataset(x_train, window_size, batch_size, shuffle_buffer_size)\n",
    "\n",
    "model = tf.keras.models.Sequential([\n",
    "    tf.keras.layers.Dense(100, input_shape=[window_size], activation=\"relu\"), \n",
    "    tf.keras.layers.Dense(10, activation=\"relu\"), \n",
    "    tf.keras.layers.Dense(1)\n",
    "])\n",
    "\n",
    "model.compile(loss=\"mse\", optimizer=tf.keras.optimizers.SGD(lr=1e-6, momentum=0.9))\n",
    "model.fit(dataset,epochs=100,verbose=1)"
   ]
  },
  {
   "cell_type": "code",
   "execution_count": 7,
   "metadata": {
    "ExecuteTime": {
     "end_time": "2020-08-16T02:10:49.299263Z",
     "start_time": "2020-08-16T02:09:27.226813Z"
    },
    "colab": {},
    "colab_type": "code",
    "id": "efhco2rYyIFF"
   },
   "outputs": [
    {
     "data": {
      "image/png": "[encoded data removed]",
      "text/plain": [
       "<Figure size 720x432 with 1 Axes>"
      ]
     },
     "metadata": {
      "needs_background": "light"
     },
     "output_type": "display_data"
    }
   ],
   "source": [
    "forecast = []\n",
    "for time in range(len(series) - window_size):\n",
    "  forecast.append(model.predict(series[time:time + window_size][np.newaxis]))\n",
    "\n",
    "forecast = forecast[split_time-window_size:]\n",
    "results = np.array(forecast)[:, 0, 0]\n",
    "\n",
    "\n",
    "plt.figure(figsize=(10, 6))\n",
    "\n",
    "plot_series(time_valid, x_valid)\n",
    "plot_series(time_valid, results)"
   ]
  },
  {
   "cell_type": "code",
   "execution_count": 8,
   "metadata": {
    "ExecuteTime": {
     "end_time": "2020-08-16T02:10:49.315218Z",
     "start_time": "2020-08-16T02:10:49.301256Z"
    },
    "colab": {},
    "colab_type": "code",
    "id": "-kT6j186YO6K"
   },
   "outputs": [
    {
     "data": {
      "text/plain": [
       "2.995662"
      ]
     },
     "execution_count": 8,
     "metadata": {},
     "output_type": "execute_result"
    }
   ],
   "source": [
    "tf.keras.metrics.mean_absolute_error(x_valid, results).numpy()"
   ]
  }
 ],
 "metadata": {
  "accelerator": "GPU",
  "colab": {
   "name": "S+P_Week_2_Exercise_Answer.ipynb",
   "provenance": [],
   "toc_visible": true,
   "version": "0.3.2"
  },
  "kernelspec": {
   "display_name": "Python 3",
   "language": "python",
   "name": "python3"
  },
  "language_info": {
   "codemirror_mode": {
    "name": "ipython",
    "version": 3
   },
   "file_extension": ".py",
   "mimetype": "text/x-python",
   "name": "python",
   "nbconvert_exporter": "python",
   "pygments_lexer": "ipython3",
   "version": "3.7.7"
  },
  "toc": {
   "base_numbering": 1,
   "nav_menu": {},
   "number_sections": true,
   "sideBar": true,
   "skip_h1_title": false,
   "title_cell": "Table of Contents",
   "title_sidebar": "Contents",
   "toc_cell": false,
   "toc_position": {},
   "toc_section_display": true,
   "toc_window_display": false
  },
  "varInspector": {
   "cols": {
    "lenName": 16,
    "lenType": 16,
    "lenVar": 40
   },
   "kernels_config": {
    "python": {
     "delete_cmd_postfix": "",
     "delete_cmd_prefix": "del ",
     "library": "var_list.py",
     "varRefreshCmd": "print(var_dic_list())"
    },
    "r": {
     "delete_cmd_postfix": ") ",
     "delete_cmd_prefix": "rm(",
     "library": "var_list.r",
     "varRefreshCmd": "cat(var_dic_list()) "
    }
   },
   "types_to_exclude": [
    "module",
    "function",
    "builtin_function_or_method",
    "instance",
    "_Feature"
   ],
   "window_display": false
  }
 },
 "nbformat": 4,
 "nbformat_minor": 1
}
