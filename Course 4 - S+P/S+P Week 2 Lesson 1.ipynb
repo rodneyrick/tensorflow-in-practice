{
 "cells": [
  {
   "cell_type": "code",
   "execution_count": 0,
   "metadata": {
    "colab": {},
    "colab_type": "code",
    "id": "zX4Kg8DUTKWO"
   },
   "outputs": [],
   "source": [
    "#@title Licensed under the Apache License, Version 2.0 (the \"License\");\n",
    "# you may not use this file except in compliance with the License.\n",
    "# You may obtain a copy of the License at\n",
    "#\n",
    "# https://www.apache.org/licenses/LICENSE-2.0\n",
    "#\n",
    "# Unless required by applicable law or agreed to in writing, software\n",
    "# distributed under the License is distributed on an \"AS IS\" BASIS,\n",
    "# WITHOUT WARRANTIES OR CONDITIONS OF ANY KIND, either express or implied.\n",
    "# See the License for the specific language governing permissions and\n",
    "# limitations under the License."
   ]
  },
  {
   "cell_type": "code",
   "execution_count": 0,
   "metadata": {
    "colab": {},
    "colab_type": "code",
    "id": "s6eq-RBcQ_Zr"
   },
   "outputs": [],
   "source": [
    "# try:\n",
    "#   # %tensorflow_version only exists in Colab.\n",
    "#   %tensorflow_version 2.x\n",
    "# except Exception:\n",
    "#   pass"
   ]
  },
  {
   "cell_type": "code",
   "execution_count": 1,
   "metadata": {
    "ExecuteTime": {
     "end_time": "2020-08-16T14:04:17.819105Z",
     "start_time": "2020-08-16T14:04:15.145325Z"
    },
    "colab": {},
    "colab_type": "code",
    "id": "BOjujz601HcS"
   },
   "outputs": [
    {
     "name": "stdout",
     "output_type": "stream",
     "text": [
      "2.1.0\n"
     ]
    }
   ],
   "source": [
    "import tensorflow as tf\n",
    "import numpy as np\n",
    "import matplotlib.pyplot as plt\n",
    "print(tf.__version__)"
   ]
  },
  {
   "cell_type": "code",
   "execution_count": 2,
   "metadata": {
    "ExecuteTime": {
     "end_time": "2020-08-16T14:04:18.548355Z",
     "start_time": "2020-08-16T14:04:17.852137Z"
    },
    "colab": {},
    "colab_type": "code",
    "id": "asEdslR_05O_"
   },
   "outputs": [
    {
     "name": "stdout",
     "output_type": "stream",
     "text": [
      "0\n",
      "1\n",
      "2\n",
      "3\n",
      "4\n",
      "5\n",
      "6\n",
      "7\n",
      "8\n",
      "9\n"
     ]
    }
   ],
   "source": [
    "dataset = tf.data.Dataset.range(10)\n",
    "for val in dataset:\n",
    "   print(val.numpy())"
   ]
  },
  {
   "cell_type": "code",
   "execution_count": 3,
   "metadata": {
    "ExecuteTime": {
     "end_time": "2020-08-16T14:04:18.627035Z",
     "start_time": "2020-08-16T14:04:18.581139Z"
    },
    "colab": {},
    "colab_type": "code",
    "id": "Lrv_ghSt1lgQ"
   },
   "outputs": [
    {
     "name": "stdout",
     "output_type": "stream",
     "text": [
      "0 1 2 3 4 \n",
      "1 2 3 4 5 \n",
      "2 3 4 5 6 \n",
      "3 4 5 6 7 \n",
      "4 5 6 7 8 \n",
      "5 6 7 8 9 \n",
      "6 7 8 9 \n",
      "7 8 9 \n",
      "8 9 \n",
      "9 \n"
     ]
    }
   ],
   "source": [
    "dataset = tf.data.Dataset.range(10)\n",
    "dataset = dataset.window(5, shift=1)\n",
    "for window_dataset in dataset:\n",
    "  for val in window_dataset:\n",
    "    print(val.numpy(), end=\" \")\n",
    "  print()"
   ]
  },
  {
   "cell_type": "code",
   "execution_count": 4,
   "metadata": {
    "ExecuteTime": {
     "end_time": "2020-08-16T14:04:18.690885Z",
     "start_time": "2020-08-16T14:04:18.659964Z"
    },
    "colab": {},
    "colab_type": "code",
    "id": "QLEq6MG-2DN2"
   },
   "outputs": [
    {
     "name": "stdout",
     "output_type": "stream",
     "text": [
      "0 1 2 3 4 \n",
      "1 2 3 4 5 \n",
      "2 3 4 5 6 \n",
      "3 4 5 6 7 \n",
      "4 5 6 7 8 \n",
      "5 6 7 8 9 \n"
     ]
    }
   ],
   "source": [
    "dataset = tf.data.Dataset.range(10)\n",
    "dataset = dataset.window(5, shift=1, drop_remainder=True)\n",
    "for window_dataset in dataset:\n",
    "  for val in window_dataset:\n",
    "    print(val.numpy(), end=\" \")\n",
    "  print()"
   ]
  },
  {
   "cell_type": "code",
   "execution_count": 6,
   "metadata": {
    "ExecuteTime": {
     "end_time": "2020-08-16T14:04:25.598146Z",
     "start_time": "2020-08-16T14:04:25.555262Z"
    },
    "colab": {},
    "colab_type": "code",
    "id": "PJ9CAHlJ2ODe"
   },
   "outputs": [
    {
     "name": "stdout",
     "output_type": "stream",
     "text": [
      "[0 1 2 3 4]\n",
      "[1 2 3 4 5]\n",
      "[2 3 4 5 6]\n",
      "[3 4 5 6 7]\n",
      "[4 5 6 7 8]\n",
      "[5 6 7 8 9]\n",
      "[ 6  7  8  9 10]\n",
      "[ 7  8  9 10 11]\n",
      "[ 8  9 10 11 12]\n",
      "[ 9 10 11 12 13]\n",
      "[10 11 12 13 14]\n",
      "[11 12 13 14 15]\n",
      "[12 13 14 15 16]\n",
      "[13 14 15 16 17]\n",
      "[14 15 16 17 18]\n",
      "[15 16 17 18 19]\n",
      "[16 17 18 19 20]\n",
      "[17 18 19 20 21]\n",
      "[18 19 20 21 22]\n",
      "[19 20 21 22 23]\n",
      "[20 21 22 23 24]\n",
      "[21 22 23 24 25]\n",
      "[22 23 24 25 26]\n",
      "[23 24 25 26 27]\n",
      "[24 25 26 27 28]\n",
      "[25 26 27 28 29]\n"
     ]
    }
   ],
   "source": [
    "dataset = tf.data.Dataset.range(30)\n",
    "dataset = dataset.window(5, shift=1, drop_remainder=True)\n",
    "dataset = dataset.flat_map(lambda window: window.batch(5))\n",
    "for window in dataset:\n",
    "  print(window.numpy())"
   ]
  },
  {
   "cell_type": "code",
   "execution_count": 7,
   "metadata": {
    "ExecuteTime": {
     "end_time": "2020-08-16T14:04:31.423037Z",
     "start_time": "2020-08-16T14:04:31.330157Z"
    },
    "colab": {},
    "colab_type": "code",
    "id": "DryEZ2Mz2nNV"
   },
   "outputs": [
    {
     "name": "stdout",
     "output_type": "stream",
     "text": [
      "[0 1 2 3] [4]\n",
      "[1 2 3 4] [5]\n",
      "[2 3 4 5] [6]\n",
      "[3 4 5 6] [7]\n",
      "[4 5 6 7] [8]\n",
      "[5 6 7 8] [9]\n",
      "[6 7 8 9] [10]\n",
      "[ 7  8  9 10] [11]\n",
      "[ 8  9 10 11] [12]\n",
      "[ 9 10 11 12] [13]\n",
      "[10 11 12 13] [14]\n",
      "[11 12 13 14] [15]\n",
      "[12 13 14 15] [16]\n",
      "[13 14 15 16] [17]\n",
      "[14 15 16 17] [18]\n",
      "[15 16 17 18] [19]\n",
      "[16 17 18 19] [20]\n",
      "[17 18 19 20] [21]\n",
      "[18 19 20 21] [22]\n",
      "[19 20 21 22] [23]\n",
      "[20 21 22 23] [24]\n",
      "[21 22 23 24] [25]\n",
      "[22 23 24 25] [26]\n",
      "[23 24 25 26] [27]\n",
      "[24 25 26 27] [28]\n",
      "[25 26 27 28] [29]\n"
     ]
    }
   ],
   "source": [
    "dataset = tf.data.Dataset.range(30)\n",
    "dataset = dataset.window(5, shift=1, drop_remainder=True)\n",
    "dataset = dataset.flat_map(lambda window: window.batch(5))\n",
    "dataset = dataset.map(lambda window: (window[:-1], window[-1:]))\n",
    "for x,y in dataset:\n",
    "  print(x.numpy(), y.numpy())"
   ]
  },
  {
   "cell_type": "code",
   "execution_count": 22,
   "metadata": {
    "ExecuteTime": {
     "end_time": "2020-08-16T14:09:55.107563Z",
     "start_time": "2020-08-16T14:09:55.008947Z"
    },
    "colab": {},
    "colab_type": "code",
    "id": "1tl-0BOKkEtk"
   },
   "outputs": [
    {
     "name": "stdout",
     "output_type": "stream",
     "text": [
      "[6 7 8 9] [10]\n",
      "[10 11 12 13] [14]\n",
      "[ 8  9 10 11] [12]\n",
      "[1 2 3 4] [5]\n",
      "[11 12 13 14] [15]\n",
      "[2 3 4 5] [6]\n",
      "[14 15 16 17] [18]\n",
      "[13 14 15 16] [17]\n",
      "[17 18 19 20] [21]\n",
      "[0 1 2 3] [4]\n",
      "[4 5 6 7] [8]\n",
      "[5 6 7 8] [9]\n",
      "[20 21 22 23] [24]\n",
      "[12 13 14 15] [16]\n",
      "[ 7  8  9 10] [11]\n",
      "[18 19 20 21] [22]\n",
      "[ 9 10 11 12] [13]\n",
      "[3 4 5 6] [7]\n",
      "[23 24 25 26] [27]\n",
      "[25 26 27 28] [29]\n",
      "[15 16 17 18] [19]\n",
      "[19 20 21 22] [23]\n",
      "[16 17 18 19] [20]\n",
      "[21 22 23 24] [25]\n",
      "[24 25 26 27] [28]\n",
      "[22 23 24 25] [26]\n"
     ]
    }
   ],
   "source": [
    "dataset = tf.data.Dataset.range(30)\n",
    "dataset = dataset.window(5, shift=1, drop_remainder=True)\n",
    "dataset = dataset.flat_map(lambda window: window.batch(5))\n",
    "dataset = dataset.map(lambda window: (window[:-1], window[-1:]))\n",
    "dataset = dataset.shuffle(buffer_size=10)\n",
    "for x,y in dataset:\n",
    "  print(x.numpy(), y.numpy())"
   ]
  },
  {
   "cell_type": "code",
   "execution_count": 20,
   "metadata": {
    "ExecuteTime": {
     "end_time": "2020-08-16T14:09:01.625244Z",
     "start_time": "2020-08-16T14:09:01.536481Z"
    },
    "colab": {},
    "colab_type": "code",
    "id": "Wa0PNwxMGapy"
   },
   "outputs": [
    {
     "name": "stdout",
     "output_type": "stream",
     "text": [
      "x =  [[0, 1, 2, 3], [1, 2, 3, 4]]  --> y =  [[4], [5]]\n",
      "x =  [[2, 3, 4, 5], [3, 4, 5, 6]]  --> y =  [[6], [7]]\n",
      "x =  [[4, 5, 6, 7], [5, 6, 7, 8]]  --> y =  [[8], [9]]\n",
      "x =  [[6, 7, 8, 9], [7, 8, 9, 10]]  --> y =  [[10], [11]]\n",
      "x =  [[8, 9, 10, 11], [9, 10, 11, 12]]  --> y =  [[12], [13]]\n",
      "x =  [[10, 11, 12, 13], [11, 12, 13, 14]]  --> y =  [[14], [15]]\n",
      "x =  [[12, 13, 14, 15], [13, 14, 15, 16]]  --> y =  [[16], [17]]\n",
      "x =  [[14, 15, 16, 17], [15, 16, 17, 18]]  --> y =  [[18], [19]]\n",
      "x =  [[16, 17, 18, 19], [17, 18, 19, 20]]  --> y =  [[20], [21]]\n",
      "x =  [[18, 19, 20, 21], [19, 20, 21, 22]]  --> y =  [[22], [23]]\n",
      "x =  [[20, 21, 22, 23], [21, 22, 23, 24]]  --> y =  [[24], [25]]\n",
      "x =  [[22, 23, 24, 25], [23, 24, 25, 26]]  --> y =  [[26], [27]]\n",
      "x =  [[24, 25, 26, 27], [25, 26, 27, 28]]  --> y =  [[28], [29]]\n"
     ]
    }
   ],
   "source": [
    "dataset = tf.data.Dataset.range(30)\n",
    "dataset = dataset.window(5, shift=1, drop_remainder=True)\n",
    "dataset = dataset.flat_map(lambda window: window.batch(5))\n",
    "dataset = dataset.map(lambda window: (window[:-1], window[-1:]))\n",
    "# dataset = dataset.shuffle(buffer_size=10)\n",
    "dataset = dataset.batch(2).prefetch(0)\n",
    "for x,y in dataset:\n",
    "  print(\"x = \", x.numpy().tolist(), \" --> y = \", y.numpy().tolist())"
   ]
  }
 ],
 "metadata": {
  "accelerator": "GPU",
  "colab": {
   "name": "S+P Week 2 Lesson 1.ipynb",
   "provenance": [],
   "toc_visible": true
  },
  "kernelspec": {
   "display_name": "Python 3",
   "language": "python",
   "name": "python3"
  },
  "language_info": {
   "codemirror_mode": {
    "name": "ipython",
    "version": 3
   },
   "file_extension": ".py",
   "mimetype": "text/x-python",
   "name": "python",
   "nbconvert_exporter": "python",
   "pygments_lexer": "ipython3",
   "version": "3.7.7"
  },
  "toc": {
   "base_numbering": 1,
   "nav_menu": {},
   "number_sections": true,
   "sideBar": true,
   "skip_h1_title": false,
   "title_cell": "Table of Contents",
   "title_sidebar": "Contents",
   "toc_cell": false,
   "toc_position": {},
   "toc_section_display": true,
   "toc_window_display": false
  },
  "varInspector": {
   "cols": {
    "lenName": 16,
    "lenType": 16,
    "lenVar": 40
   },
   "kernels_config": {
    "python": {
     "delete_cmd_postfix": "",
     "delete_cmd_prefix": "del ",
     "library": "var_list.py",
     "varRefreshCmd": "print(var_dic_list())"
    },
    "r": {
     "delete_cmd_postfix": ") ",
     "delete_cmd_prefix": "rm(",
     "library": "var_list.r",
     "varRefreshCmd": "cat(var_dic_list()) "
    }
   },
   "types_to_exclude": [
    "module",
    "function",
    "builtin_function_or_method",
    "instance",
    "_Feature"
   ],
   "window_display": false
  }
 },
 "nbformat": 4,
 "nbformat_minor": 1
}
