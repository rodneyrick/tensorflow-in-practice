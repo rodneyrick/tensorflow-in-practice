{
 "cells": [
  {
   "cell_type": "markdown",
   "metadata": {
    "colab_type": "text",
    "id": "view-in-github"
   },
   "source": [
    "<a href=\"https://colab.research.google.com/github/lmoroney/dlaicourse/blob/master/Horse-or-Human-WithDropouts.ipynb\" target=\"_parent\"><img src=\"https://colab.research.google.com/assets/colab-badge.svg\" alt=\"Open In Colab\"/></a>"
   ]
  },
  {
   "cell_type": "markdown",
   "metadata": {
    "colab_type": "text",
    "id": "rX8mhOLljYeM"
   },
   "source": [
    "##### Copyright 2019 The TensorFlow Authors."
   ]
  },
  {
   "cell_type": "code",
   "execution_count": 1,
   "metadata": {
    "ExecuteTime": {
     "end_time": "2020-11-02T01:15:42.239217Z",
     "start_time": "2020-11-02T01:15:42.224252Z"
    },
    "cellView": "form",
    "colab": {},
    "colab_type": "code",
    "id": "BZSlp3DAjdYf"
   },
   "outputs": [],
   "source": [
    "#@title Licensed under the Apache License, Version 2.0 (the \"License\");\n",
    "# you may not use this file except in compliance with the License.\n",
    "# You may obtain a copy of the License at\n",
    "#\n",
    "# https://www.apache.org/licenses/LICENSE-2.0\n",
    "#\n",
    "# Unless required by applicable law or agreed to in writing, software\n",
    "# distributed under the License is distributed on an \"AS IS\" BASIS,\n",
    "# WITHOUT WARRANTIES OR CONDITIONS OF ANY KIND, either express or implied.\n",
    "# See the License for the specific language governing permissions and\n",
    "# limitations under the License."
   ]
  },
  {
   "cell_type": "code",
   "execution_count": 2,
   "metadata": {
    "ExecuteTime": {
     "end_time": "2020-11-02T01:15:43.339691Z",
     "start_time": "2020-11-02T01:15:42.241215Z"
    },
    "colab": {},
    "colab_type": "code",
    "id": "RXZT2UsyIVe_"
   },
   "outputs": [],
   "source": [
    "# !wget --no-check-certificate \\\n",
    "#     https://storage.googleapis.com/laurencemoroney-blog.appspot.com/horse-or-human.zip \\\n",
    "#     -O /tmp/horse-or-human.zip\n",
    "\n",
    "# !wget --no-check-certificate \\\n",
    "#     https://storage.googleapis.com/laurencemoroney-blog.appspot.com/validation-horse-or-human.zip \\\n",
    "#     -O /tmp/validation-horse-or-human.zip\n",
    "  \n",
    "import os\n",
    "import zipfile\n",
    "\n",
    "local_zip = '/tmp/horse-or-human.zip'\n",
    "zip_ref = zipfile.ZipFile(local_zip, 'r')\n",
    "zip_ref.extractall('/tmp/horse-or-human')\n",
    "local_zip = '/tmp/validation-horse-or-human.zip'\n",
    "zip_ref = zipfile.ZipFile(local_zip, 'r')\n",
    "zip_ref.extractall('/tmp/validation-horse-or-human')\n",
    "zip_ref.close()\n",
    "# Directory with our training horse pictures\n",
    "train_horse_dir = os.path.join('/tmp/horse-or-human/horses')\n",
    "\n",
    "# Directory with our training human pictures\n",
    "train_human_dir = os.path.join('/tmp/horse-or-human/humans')\n",
    "\n",
    "# Directory with our training horse pictures\n",
    "validation_horse_dir = os.path.join('/tmp/validation-horse-or-human/horses')\n",
    "\n",
    "# Directory with our training human pictures\n",
    "validation_human_dir = os.path.join('/tmp/validation-horse-or-human/humans')"
   ]
  },
  {
   "cell_type": "markdown",
   "metadata": {
    "colab_type": "text",
    "id": "5oqBkNBJmtUv"
   },
   "source": [
    "## Building a Small Model from Scratch\n",
    "\n",
    "But before we continue, let's start defining the model:\n",
    "\n",
    "Step 1 will be to import tensorflow."
   ]
  },
  {
   "cell_type": "code",
   "execution_count": 3,
   "metadata": {
    "ExecuteTime": {
     "end_time": "2020-11-02T01:15:45.721819Z",
     "start_time": "2020-11-02T01:15:43.341612Z"
    },
    "colab": {},
    "colab_type": "code",
    "id": "qvfZg3LQbD-5"
   },
   "outputs": [],
   "source": [
    "import tensorflow as tf"
   ]
  },
  {
   "cell_type": "markdown",
   "metadata": {
    "colab_type": "text",
    "id": "BnhYCP4tdqjC"
   },
   "source": [
    "We then add convolutional layers as in the previous example, and flatten the final result to feed into the densely connected layers."
   ]
  },
  {
   "cell_type": "markdown",
   "metadata": {
    "colab_type": "text",
    "id": "gokG5HKpdtzm"
   },
   "source": [
    "Finally we add the densely connected layers. \n",
    "\n",
    "Note that because we are facing a two-class classification problem, i.e. a *binary classification problem*, we will end our network with a [*sigmoid* activation](https://wikipedia.org/wiki/Sigmoid_function), so that the output of our network will be a single scalar between 0 and 1, encoding the probability that the current image is class 1 (as opposed to class 0)."
   ]
  },
  {
   "cell_type": "code",
   "execution_count": 4,
   "metadata": {
    "ExecuteTime": {
     "end_time": "2020-11-02T01:15:47.855394Z",
     "start_time": "2020-11-02T01:15:45.723829Z"
    },
    "colab": {},
    "colab_type": "code",
    "id": "PixZ2s5QbYQ3"
   },
   "outputs": [],
   "source": [
    "model = tf.keras.models.Sequential([\n",
    "    # Note the input shape is the desired size of the image 300x300 with 3 bytes color\n",
    "    # This is the first convolution\n",
    "    tf.keras.layers.Conv2D(16, (3,3), activation='relu', input_shape=(300, 300, 3)),\n",
    "    tf.keras.layers.MaxPooling2D(2, 2),\n",
    "    # The second convolution\n",
    "    tf.keras.layers.Conv2D(32, (3,3), activation='relu'),\n",
    "    tf.keras.layers.Dropout(0.5),\n",
    "    tf.keras.layers.MaxPooling2D(2,2),\n",
    "    # The third convolution\n",
    "    tf.keras.layers.Conv2D(64, (3,3), activation='relu'),\n",
    "    tf.keras.layers.Dropout(0.5),\n",
    "    tf.keras.layers.MaxPooling2D(2,2),\n",
    "    # The fourth convolution\n",
    "    tf.keras.layers.Conv2D(64, (3,3), activation='relu'),\n",
    "    tf.keras.layers.MaxPooling2D(2,2),\n",
    "    # The fifth convolution\n",
    "    tf.keras.layers.Conv2D(64, (3,3), activation='relu'),\n",
    "    tf.keras.layers.MaxPooling2D(2,2),\n",
    "    # Flatten the results to feed into a DNN\n",
    "    \n",
    "    tf.keras.layers.Flatten(),\n",
    "    tf.keras.layers.Dropout(0.5),\n",
    "    # 512 neuron hidden layer\n",
    "    tf.keras.layers.Dense(512, activation='relu'),\n",
    "    # Only 1 output neuron. It will contain a value from 0-1 where 0 for 1 class ('horses') and 1 for the other ('humans')\n",
    "    tf.keras.layers.Dense(1, activation='sigmoid')\n",
    "])"
   ]
  },
  {
   "cell_type": "code",
   "execution_count": 5,
   "metadata": {
    "ExecuteTime": {
     "end_time": "2020-11-02T01:15:47.871394Z",
     "start_time": "2020-11-02T01:15:47.856394Z"
    },
    "colab": {},
    "colab_type": "code",
    "id": "8DHWhFP_uhq3"
   },
   "outputs": [],
   "source": [
    "from tensorflow.keras.optimizers import RMSprop\n",
    "\n",
    "model.compile(loss='binary_crossentropy',\n",
    "              optimizer=RMSprop(lr=1e-4),\n",
    "              metrics=['accuracy'])"
   ]
  },
  {
   "cell_type": "code",
   "execution_count": 6,
   "metadata": {
    "ExecuteTime": {
     "end_time": "2020-11-02T01:15:47.935398Z",
     "start_time": "2020-11-02T01:15:47.873397Z"
    },
    "colab": {},
    "colab_type": "code",
    "id": "ClebU9NJg99G"
   },
   "outputs": [
    {
     "name": "stdout",
     "output_type": "stream",
     "text": [
      "Found 1027 images belonging to 2 classes.\n",
      "Found 256 images belonging to 2 classes.\n"
     ]
    }
   ],
   "source": [
    "from tensorflow.keras.preprocessing.image import ImageDataGenerator\n",
    "\n",
    "# All images will be rescaled by 1./255\n",
    "train_datagen = ImageDataGenerator(\n",
    "      rescale=1./255,\n",
    "      rotation_range=40,\n",
    "      width_shift_range=0.2,\n",
    "      height_shift_range=0.2,\n",
    "      shear_range=0.2,\n",
    "      zoom_range=0.2,\n",
    "      horizontal_flip=True,\n",
    "      fill_mode='nearest')\n",
    "\n",
    "validation_datagen = ImageDataGenerator(rescale=1/255)\n",
    "\n",
    "# Flow training images in batches of 128 using train_datagen generator\n",
    "train_generator = train_datagen.flow_from_directory(\n",
    "        '/tmp/horse-or-human/',  # This is the source directory for training images\n",
    "        target_size=(300, 300),  # All images will be resized to 150x150\n",
    "        batch_size=128,\n",
    "        # Since we use binary_crossentropy loss, we need binary labels\n",
    "        class_mode='binary')\n",
    "\n",
    "# Flow training images in batches of 128 using train_datagen generator\n",
    "validation_generator = validation_datagen.flow_from_directory(\n",
    "        '/tmp/validation-horse-or-human/',  # This is the source directory for training images\n",
    "        target_size=(300, 300),  # All images will be resized to 150x150\n",
    "        batch_size=32,\n",
    "        # Since we use binary_crossentropy loss, we need binary labels\n",
    "        class_mode='binary')"
   ]
  },
  {
   "cell_type": "code",
   "execution_count": 7,
   "metadata": {
    "ExecuteTime": {
     "end_time": "2020-11-02T01:50:15.568046Z",
     "start_time": "2020-11-02T01:15:47.940401Z"
    },
    "colab": {},
    "colab_type": "code",
    "id": "Fb1_lgobv81m",
    "scrolled": false
   },
   "outputs": [
    {
     "name": "stdout",
     "output_type": "stream",
     "text": [
      "Epoch 1/100\n",
      "8/8 [==============================] - 18s 2s/step - loss: 0.8275 - accuracy: 0.5250 - val_loss: 0.6833 - val_accuracy: 0.5039\n",
      "Epoch 2/100\n",
      "8/8 [==============================] - 16s 2s/step - loss: 0.7757 - accuracy: 0.5072 - val_loss: 0.6879 - val_accuracy: 0.5000\n",
      "Epoch 3/100\n",
      "8/8 [==============================] - 16s 2s/step - loss: 0.7039 - accuracy: 0.5729 - val_loss: 0.6861 - val_accuracy: 0.5000\n",
      "Epoch 4/100\n",
      "8/8 [==============================] - 16s 2s/step - loss: 0.6859 - accuracy: 0.5640 - val_loss: 0.6805 - val_accuracy: 0.5000\n",
      "Epoch 5/100\n",
      "8/8 [==============================] - 16s 2s/step - loss: 0.6745 - accuracy: 0.5762 - val_loss: 0.6771 - val_accuracy: 0.5156\n",
      "Epoch 6/100\n",
      "8/8 [==============================] - 16s 2s/step - loss: 0.6797 - accuracy: 0.5706 - val_loss: 0.6786 - val_accuracy: 0.5000\n",
      "Epoch 7/100\n",
      "8/8 [==============================] - 16s 2s/step - loss: 0.6550 - accuracy: 0.6085 - val_loss: 0.6778 - val_accuracy: 0.5000\n",
      "Epoch 8/100\n",
      "8/8 [==============================] - 16s 2s/step - loss: 0.7276 - accuracy: 0.6307 - val_loss: 0.6718 - val_accuracy: 0.5156\n",
      "Epoch 9/100\n",
      "8/8 [==============================] - 16s 2s/step - loss: 0.6384 - accuracy: 0.6585 - val_loss: 0.6617 - val_accuracy: 0.5859\n",
      "Epoch 10/100\n",
      "8/8 [==============================] - 16s 2s/step - loss: 0.6297 - accuracy: 0.6418 - val_loss: 0.6716 - val_accuracy: 0.5039\n",
      "Epoch 11/100\n",
      "8/8 [==============================] - 16s 2s/step - loss: 0.6227 - accuracy: 0.6485 - val_loss: 0.6550 - val_accuracy: 0.5000\n",
      "Epoch 12/100\n",
      "8/8 [==============================] - 16s 2s/step - loss: 0.6821 - accuracy: 0.6518 - val_loss: 0.6602 - val_accuracy: 0.5312\n",
      "Epoch 13/100\n",
      "8/8 [==============================] - 19s 2s/step - loss: 0.5954 - accuracy: 0.7012 - val_loss: 0.6569 - val_accuracy: 0.5352\n",
      "Epoch 14/100\n",
      "8/8 [==============================] - 16s 2s/step - loss: 0.6513 - accuracy: 0.6719 - val_loss: 0.6598 - val_accuracy: 0.5195\n",
      "Epoch 15/100\n",
      "8/8 [==============================] - 16s 2s/step - loss: 0.5839 - accuracy: 0.6974 - val_loss: 0.6710 - val_accuracy: 0.5000\n",
      "Epoch 16/100\n",
      "8/8 [==============================] - 16s 2s/step - loss: 0.5864 - accuracy: 0.6986 - val_loss: 0.6461 - val_accuracy: 0.5469\n",
      "Epoch 17/100\n",
      "8/8 [==============================] - 16s 2s/step - loss: 0.6148 - accuracy: 0.6730 - val_loss: 0.6446 - val_accuracy: 0.5547\n",
      "Epoch 18/100\n",
      "8/8 [==============================] - 16s 2s/step - loss: 0.5648 - accuracy: 0.7264 - val_loss: 0.6446 - val_accuracy: 0.5352\n",
      "Epoch 19/100\n",
      "8/8 [==============================] - 16s 2s/step - loss: 0.6548 - accuracy: 0.6852 - val_loss: 0.6458 - val_accuracy: 0.5234\n",
      "Epoch 20/100\n",
      "8/8 [==============================] - 16s 2s/step - loss: 0.5580 - accuracy: 0.7208 - val_loss: 0.6422 - val_accuracy: 0.5352\n",
      "Epoch 21/100\n",
      "8/8 [==============================] - 16s 2s/step - loss: 0.5230 - accuracy: 0.7620 - val_loss: 0.6123 - val_accuracy: 0.6289\n",
      "Epoch 22/100\n",
      "8/8 [==============================] - 18s 2s/step - loss: 0.5346 - accuracy: 0.7393 - val_loss: 0.6171 - val_accuracy: 0.5820\n",
      "Epoch 23/100\n",
      "8/8 [==============================] - 18s 2s/step - loss: 0.6446 - accuracy: 0.7063 - val_loss: 0.6215 - val_accuracy: 0.5586\n",
      "Epoch 24/100\n",
      "8/8 [==============================] - 18s 2s/step - loss: 0.5286 - accuracy: 0.7549 - val_loss: 0.6018 - val_accuracy: 0.6367\n",
      "Epoch 25/100\n",
      "8/8 [==============================] - 16s 2s/step - loss: 0.5191 - accuracy: 0.7664 - val_loss: 0.6176 - val_accuracy: 0.5547\n",
      "Epoch 26/100\n",
      "8/8 [==============================] - 16s 2s/step - loss: 0.5474 - accuracy: 0.7419 - val_loss: 0.6055 - val_accuracy: 0.5703\n",
      "Epoch 27/100\n",
      "8/8 [==============================] - 16s 2s/step - loss: 0.5403 - accuracy: 0.7442 - val_loss: 0.6155 - val_accuracy: 0.5586\n",
      "Epoch 28/100\n",
      "8/8 [==============================] - 16s 2s/step - loss: 0.5334 - accuracy: 0.7230 - val_loss: 0.6017 - val_accuracy: 0.5781\n",
      "Epoch 29/100\n",
      "8/8 [==============================] - 16s 2s/step - loss: 0.5518 - accuracy: 0.7330 - val_loss: 0.6142 - val_accuracy: 0.5586\n",
      "Epoch 30/100\n",
      "8/8 [==============================] - 16s 2s/step - loss: 0.5054 - accuracy: 0.7608 - val_loss: 0.6010 - val_accuracy: 0.5742\n",
      "Epoch 31/100\n",
      "8/8 [==============================] - 19s 2s/step - loss: 0.5158 - accuracy: 0.7531 - val_loss: 0.6520 - val_accuracy: 0.5156\n",
      "Epoch 32/100\n",
      "8/8 [==============================] - 16s 2s/step - loss: 0.5379 - accuracy: 0.7241 - val_loss: 0.5969 - val_accuracy: 0.5781\n",
      "Epoch 33/100\n",
      "8/8 [==============================] - 16s 2s/step - loss: 0.4727 - accuracy: 0.7809 - val_loss: 0.6004 - val_accuracy: 0.5664\n",
      "Epoch 34/100\n",
      "8/8 [==============================] - 16s 2s/step - loss: 0.5344 - accuracy: 0.7653 - val_loss: 0.6030 - val_accuracy: 0.5664\n",
      "Epoch 35/100\n",
      "8/8 [==============================] - 16s 2s/step - loss: 0.4683 - accuracy: 0.7798 - val_loss: 0.5448 - val_accuracy: 0.6680\n",
      "Epoch 36/100\n",
      "8/8 [==============================] - 16s 2s/step - loss: 0.4834 - accuracy: 0.7820 - val_loss: 0.6016 - val_accuracy: 0.5703\n",
      "Epoch 37/100\n",
      "8/8 [==============================] - 16s 2s/step - loss: 0.4967 - accuracy: 0.7709 - val_loss: 0.6232 - val_accuracy: 0.5547\n",
      "Epoch 38/100\n",
      "8/8 [==============================] - 16s 2s/step - loss: 0.4714 - accuracy: 0.7764 - val_loss: 0.5952 - val_accuracy: 0.5742\n",
      "Epoch 39/100\n",
      "8/8 [==============================] - 16s 2s/step - loss: 0.5324 - accuracy: 0.7586 - val_loss: 0.6205 - val_accuracy: 0.5547\n",
      "Epoch 40/100\n",
      "8/8 [==============================] - 16s 2s/step - loss: 0.4410 - accuracy: 0.8031 - val_loss: 0.6282 - val_accuracy: 0.5547\n",
      "Epoch 41/100\n",
      "8/8 [==============================] - 16s 2s/step - loss: 0.5741 - accuracy: 0.7531 - val_loss: 0.6613 - val_accuracy: 0.5273\n",
      "Epoch 42/100\n",
      "8/8 [==============================] - 19s 2s/step - loss: 0.4278 - accuracy: 0.7988 - val_loss: 0.6171 - val_accuracy: 0.5664\n",
      "Epoch 43/100\n",
      "8/8 [==============================] - 16s 2s/step - loss: 0.4702 - accuracy: 0.7875 - val_loss: 0.6068 - val_accuracy: 0.5664\n",
      "Epoch 44/100\n",
      "8/8 [==============================] - 18s 2s/step - loss: 0.4526 - accuracy: 0.7832 - val_loss: 0.6703 - val_accuracy: 0.5352\n",
      "Epoch 45/100\n",
      "8/8 [==============================] - 16s 2s/step - loss: 0.4342 - accuracy: 0.7931 - val_loss: 0.7060 - val_accuracy: 0.5234\n",
      "Epoch 46/100\n",
      "8/8 [==============================] - 16s 2s/step - loss: 0.4661 - accuracy: 0.7809 - val_loss: 0.5992 - val_accuracy: 0.5859\n",
      "Epoch 47/100\n",
      "8/8 [==============================] - 16s 2s/step - loss: 0.4076 - accuracy: 0.8131 - val_loss: 0.5014 - val_accuracy: 0.6992\n",
      "Epoch 48/100\n",
      "8/8 [==============================] - 18s 2s/step - loss: 0.5058 - accuracy: 0.7764 - val_loss: 0.5966 - val_accuracy: 0.5781\n",
      "Epoch 49/100\n",
      "8/8 [==============================] - 16s 2s/step - loss: 0.4013 - accuracy: 0.8142 - val_loss: 0.5930 - val_accuracy: 0.5977\n",
      "Epoch 50/100\n",
      "8/8 [==============================] - 16s 2s/step - loss: 0.3924 - accuracy: 0.8231 - val_loss: 0.6518 - val_accuracy: 0.5547\n",
      "Epoch 51/100\n",
      "8/8 [==============================] - 16s 2s/step - loss: 0.4073 - accuracy: 0.8198 - val_loss: 0.6237 - val_accuracy: 0.5664\n",
      "Epoch 52/100\n",
      "8/8 [==============================] - 16s 2s/step - loss: 0.3592 - accuracy: 0.8498 - val_loss: 0.6364 - val_accuracy: 0.5781\n",
      "Epoch 53/100\n",
      "8/8 [==============================] - 16s 2s/step - loss: 0.4054 - accuracy: 0.8131 - val_loss: 0.7090 - val_accuracy: 0.5508\n",
      "Epoch 54/100\n",
      "8/8 [==============================] - 16s 2s/step - loss: 0.3947 - accuracy: 0.8187 - val_loss: 0.4253 - val_accuracy: 0.8633\n",
      "Epoch 55/100\n",
      "8/8 [==============================] - 16s 2s/step - loss: 0.4550 - accuracy: 0.7987 - val_loss: 0.6377 - val_accuracy: 0.5664\n",
      "Epoch 56/100\n",
      "8/8 [==============================] - 16s 2s/step - loss: 0.3692 - accuracy: 0.8554 - val_loss: 0.7547 - val_accuracy: 0.5352\n",
      "Epoch 57/100\n",
      "8/8 [==============================] - 19s 2s/step - loss: 0.3791 - accuracy: 0.8265 - val_loss: 0.6255 - val_accuracy: 0.5938\n",
      "Epoch 58/100\n",
      "8/8 [==============================] - 18s 2s/step - loss: 0.3468 - accuracy: 0.8418 - val_loss: 0.5194 - val_accuracy: 0.6680\n",
      "Epoch 59/100\n"
     ]
    },
    {
     "name": "stdout",
     "output_type": "stream",
     "text": [
      "8/8 [==============================] - 18s 2s/step - loss: 0.4764 - accuracy: 0.7909 - val_loss: 0.6550 - val_accuracy: 0.5625\n",
      "Epoch 60/100\n",
      "8/8 [==============================] - 16s 2s/step - loss: 0.3390 - accuracy: 0.8432 - val_loss: 0.7745 - val_accuracy: 0.5469\n",
      "Epoch 61/100\n",
      "8/8 [==============================] - 16s 2s/step - loss: 0.3371 - accuracy: 0.8610 - val_loss: 0.6956 - val_accuracy: 0.5547\n",
      "Epoch 62/100\n",
      "8/8 [==============================] - 16s 2s/step - loss: 0.3315 - accuracy: 0.8454 - val_loss: 0.7484 - val_accuracy: 0.5508\n",
      "Epoch 63/100\n",
      "8/8 [==============================] - 18s 2s/step - loss: 0.3638 - accuracy: 0.8309 - val_loss: 0.6666 - val_accuracy: 0.5625\n",
      "Epoch 64/100\n",
      "8/8 [==============================] - 18s 2s/step - loss: 0.3254 - accuracy: 0.8516 - val_loss: 0.8071 - val_accuracy: 0.5430\n",
      "Epoch 65/100\n",
      "8/8 [==============================] - 18s 2s/step - loss: 0.3533 - accuracy: 0.8379 - val_loss: 0.7398 - val_accuracy: 0.5508\n",
      "Epoch 66/100\n",
      "8/8 [==============================] - 16s 2s/step - loss: 0.3563 - accuracy: 0.8476 - val_loss: 0.6741 - val_accuracy: 0.5664\n",
      "Epoch 67/100\n",
      "8/8 [==============================] - 16s 2s/step - loss: 0.3299 - accuracy: 0.8498 - val_loss: 0.6872 - val_accuracy: 0.5820\n",
      "Epoch 68/100\n",
      "8/8 [==============================] - 16s 2s/step - loss: 0.3868 - accuracy: 0.8376 - val_loss: 0.7271 - val_accuracy: 0.5625\n",
      "Epoch 69/100\n",
      "8/8 [==============================] - 16s 2s/step - loss: 0.3059 - accuracy: 0.8687 - val_loss: 0.7110 - val_accuracy: 0.5664\n",
      "Epoch 70/100\n",
      "8/8 [==============================] - 16s 2s/step - loss: 0.3226 - accuracy: 0.8732 - val_loss: 0.6370 - val_accuracy: 0.6133\n",
      "Epoch 71/100\n",
      "8/8 [==============================] - 16s 2s/step - loss: 0.2770 - accuracy: 0.8765 - val_loss: 0.7906 - val_accuracy: 0.5547\n",
      "Epoch 72/100\n",
      "8/8 [==============================] - 16s 2s/step - loss: 0.2817 - accuracy: 0.8821 - val_loss: 0.5148 - val_accuracy: 0.6914\n",
      "Epoch 73/100\n",
      "8/8 [==============================] - 16s 2s/step - loss: 0.3278 - accuracy: 0.8554 - val_loss: 0.6841 - val_accuracy: 0.5781\n",
      "Epoch 74/100\n",
      "8/8 [==============================] - 16s 2s/step - loss: 0.2877 - accuracy: 0.8754 - val_loss: 0.7621 - val_accuracy: 0.5742\n",
      "Epoch 75/100\n",
      "8/8 [==============================] - 16s 2s/step - loss: 0.3569 - accuracy: 0.8543 - val_loss: 0.6415 - val_accuracy: 0.5938\n",
      "Epoch 76/100\n",
      "8/8 [==============================] - 16s 2s/step - loss: 0.2562 - accuracy: 0.8921 - val_loss: 0.7813 - val_accuracy: 0.5742\n",
      "Epoch 77/100\n",
      "8/8 [==============================] - 18s 2s/step - loss: 0.3041 - accuracy: 0.8699 - val_loss: 0.6546 - val_accuracy: 0.6172\n",
      "Epoch 78/100\n",
      "8/8 [==============================] - 18s 2s/step - loss: 0.2500 - accuracy: 0.8975 - val_loss: 0.6435 - val_accuracy: 0.6289\n",
      "Epoch 79/100\n",
      "8/8 [==============================] - 16s 2s/step - loss: 0.3350 - accuracy: 0.8621 - val_loss: 0.7999 - val_accuracy: 0.5586\n",
      "Epoch 80/100\n",
      "8/8 [==============================] - 16s 2s/step - loss: 0.2692 - accuracy: 0.8932 - val_loss: 0.7354 - val_accuracy: 0.5703\n",
      "Epoch 81/100\n",
      "8/8 [==============================] - 16s 2s/step - loss: 0.2648 - accuracy: 0.8932 - val_loss: 0.9847 - val_accuracy: 0.5508\n",
      "Epoch 82/100\n",
      "8/8 [==============================] - 16s 2s/step - loss: 0.2654 - accuracy: 0.8888 - val_loss: 0.7156 - val_accuracy: 0.6133\n",
      "Epoch 83/100\n",
      "8/8 [==============================] - 19s 2s/step - loss: 0.2506 - accuracy: 0.8887 - val_loss: 0.4755 - val_accuracy: 0.7227\n",
      "Epoch 84/100\n",
      "8/8 [==============================] - 16s 2s/step - loss: 0.2753 - accuracy: 0.8932 - val_loss: 0.5146 - val_accuracy: 0.6914\n",
      "Epoch 85/100\n",
      "8/8 [==============================] - 16s 2s/step - loss: 0.2671 - accuracy: 0.8966 - val_loss: 0.8376 - val_accuracy: 0.5703\n",
      "Epoch 86/100\n",
      "8/8 [==============================] - 16s 2s/step - loss: 0.2920 - accuracy: 0.8877 - val_loss: 0.7399 - val_accuracy: 0.5820\n",
      "Epoch 87/100\n",
      "8/8 [==============================] - 16s 2s/step - loss: 0.2447 - accuracy: 0.9021 - val_loss: 1.0836 - val_accuracy: 0.5586\n",
      "Epoch 88/100\n",
      "8/8 [==============================] - 16s 2s/step - loss: 0.2271 - accuracy: 0.9177 - val_loss: 0.9886 - val_accuracy: 0.5469\n",
      "Epoch 89/100\n",
      "8/8 [==============================] - 16s 2s/step - loss: 0.2513 - accuracy: 0.8977 - val_loss: 0.4944 - val_accuracy: 0.6992\n",
      "Epoch 90/100\n",
      "8/8 [==============================] - 18s 2s/step - loss: 0.1993 - accuracy: 0.9268 - val_loss: 0.9912 - val_accuracy: 0.5508\n",
      "Epoch 91/100\n",
      "8/8 [==============================] - 16s 2s/step - loss: 0.2503 - accuracy: 0.8910 - val_loss: 0.4222 - val_accuracy: 0.7695\n",
      "Epoch 92/100\n",
      "8/8 [==============================] - 16s 2s/step - loss: 0.3389 - accuracy: 0.8476 - val_loss: 0.6704 - val_accuracy: 0.5977\n",
      "Epoch 93/100\n",
      "8/8 [==============================] - 16s 2s/step - loss: 0.2323 - accuracy: 0.9055 - val_loss: 0.7113 - val_accuracy: 0.6172\n",
      "Epoch 94/100\n",
      "8/8 [==============================] - 20s 3s/step - loss: 0.2005 - accuracy: 0.9219 - val_loss: 0.8692 - val_accuracy: 0.5938\n",
      "Epoch 95/100\n",
      "8/8 [==============================] - 18s 2s/step - loss: 0.2500 - accuracy: 0.8977 - val_loss: 0.6369 - val_accuracy: 0.6562\n",
      "Epoch 96/100\n",
      "8/8 [==============================] - 17s 2s/step - loss: 0.2257 - accuracy: 0.9221 - val_loss: 0.8233 - val_accuracy: 0.6016\n",
      "Epoch 97/100\n",
      "8/8 [==============================] - 17s 2s/step - loss: 0.2220 - accuracy: 0.9077 - val_loss: 0.8509 - val_accuracy: 0.6055\n",
      "Epoch 98/100\n",
      "8/8 [==============================] - 17s 2s/step - loss: 0.2310 - accuracy: 0.9088 - val_loss: 0.5829 - val_accuracy: 0.6719\n",
      "Epoch 99/100\n",
      "8/8 [==============================] - 19s 2s/step - loss: 0.1875 - accuracy: 0.9307 - val_loss: 0.9040 - val_accuracy: 0.6094\n",
      "Epoch 100/100\n",
      "8/8 [==============================] - 17s 2s/step - loss: 0.2342 - accuracy: 0.9110 - val_loss: 0.4862 - val_accuracy: 0.7227\n"
     ]
    }
   ],
   "source": [
    "history = model.fit(\n",
    "      train_generator,\n",
    "      steps_per_epoch=8,  \n",
    "      epochs=100,\n",
    "      verbose=1,\n",
    "      validation_data = validation_generator,\n",
    "      validation_steps=8)"
   ]
  },
  {
   "cell_type": "code",
   "execution_count": 8,
   "metadata": {
    "ExecuteTime": {
     "end_time": "2020-11-02T01:50:15.990047Z",
     "start_time": "2020-11-02T01:50:15.569042Z"
    },
    "colab": {},
    "colab_type": "code",
    "id": "7zNPRWOVJdOH"
   },
   "outputs": [
    {
     "data": {
      "image/png": "[encoded data removed]",
      "text/plain": [
       "<Figure size 432x288 with 1 Axes>"
      ]
     },
     "metadata": {
      "needs_background": "light"
     },
     "output_type": "display_data"
    },
    {
     "data": {
      "image/png": "[encoded data removed]",
      "text/plain": [
       "<Figure size 432x288 with 1 Axes>"
      ]
     },
     "metadata": {
      "needs_background": "light"
     },
     "output_type": "display_data"
    }
   ],
   "source": [
    "import matplotlib.pyplot as plt\n",
    "acc = history.history['accuracy']\n",
    "val_acc = history.history['val_accuracy']\n",
    "loss = history.history['loss']\n",
    "val_loss = history.history['val_loss']\n",
    "\n",
    "epochs = range(len(acc))\n",
    "\n",
    "plt.plot(epochs, acc, 'bo', label='Training accuracy')\n",
    "plt.plot(epochs, val_acc, 'b', label='Validation accuracy')\n",
    "plt.title('Training and validation accuracy')\n",
    "\n",
    "plt.figure()\n",
    "\n",
    "plt.plot(epochs, loss, 'bo', label='Training Loss')\n",
    "plt.plot(epochs, val_loss, 'b', label='Validation Loss')\n",
    "plt.title('Training and validation loss')\n",
    "plt.legend()\n",
    "\n",
    "plt.show()"
   ]
  }
 ],
 "metadata": {
  "accelerator": "GPU",
  "colab": {
   "collapsed_sections": [],
   "include_colab_link": true,
   "name": "Horse-or-Human-WithDropouts.ipynb",
   "provenance": [],
   "toc_visible": true
  },
  "kernelspec": {
   "display_name": "Python 3",
   "language": "python",
   "name": "python3"
  },
  "language_info": {
   "codemirror_mode": {
    "name": "ipython",
    "version": 3
   },
   "file_extension": ".py",
   "mimetype": "text/x-python",
   "name": "python",
   "nbconvert_exporter": "python",
   "pygments_lexer": "ipython3",
   "version": "3.8.6"
  },
  "toc": {
   "base_numbering": 1,
   "nav_menu": {},
   "number_sections": true,
   "sideBar": true,
   "skip_h1_title": false,
   "title_cell": "Table of Contents",
   "title_sidebar": "Contents",
   "toc_cell": false,
   "toc_position": {},
   "toc_section_display": true,
   "toc_window_display": false
  }
 },
 "nbformat": 4,
 "nbformat_minor": 1
}
